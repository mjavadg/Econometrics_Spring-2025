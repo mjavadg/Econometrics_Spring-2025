{
 "cells": [
  {
   "cell_type": "markdown",
   "id": "73cea85e",
   "metadata": {},
   "source": [
    "# Econometrics"
   ]
  },
  {
   "cell_type": "markdown",
   "id": "7aec4769",
   "metadata": {},
   "source": [
    "# Third Session"
   ]
  },
  {
   "cell_type": "markdown",
   "id": "fcd098f8",
   "metadata": {},
   "source": [
    "# Data Types that Python Understands"
   ]
  },
  {
   "cell_type": "markdown",
   "id": "cc3df0ea-7dc6-40a0-8cea-abdebe327b40",
   "metadata": {},
   "source": [
    "# Numerical data types"
   ]
  },
  {
   "cell_type": "markdown",
   "id": "271eb2d6",
   "metadata": {},
   "source": [
    "## Integers"
   ]
  },
  {
   "cell_type": "markdown",
   "id": "8549a7eb-034d-49e8-9fb0-aa2e231891ae",
   "metadata": {},
   "source": [
    "### Simple Variable Assignment"
   ]
  },
  {
   "cell_type": "code",
   "execution_count": 4,
   "id": "94aceb2b",
   "metadata": {
    "vscode": {
     "languageId": "plaintext"
    }
   },
   "outputs": [],
   "source": [
    "a = 2"
   ]
  },
  {
   "cell_type": "code",
   "execution_count": 6,
   "id": "9073a7cf-71dd-4be2-8412-9b3df010db2a",
   "metadata": {},
   "outputs": [
    {
     "data": {
      "text/plain": [
       "int"
      ]
     },
     "execution_count": 6,
     "metadata": {},
     "output_type": "execute_result"
    }
   ],
   "source": [
    "type(a)"
   ]
  },
  {
   "cell_type": "code",
   "execution_count": 8,
   "id": "d8108f8a-4452-428b-bc9b-87cf20ce092e",
   "metadata": {},
   "outputs": [
    {
     "name": "stdout",
     "output_type": "stream",
     "text": [
      "<class 'int'>\n"
     ]
    }
   ],
   "source": [
    "print(type(2))"
   ]
  },
  {
   "cell_type": "markdown",
   "id": "d46036b5",
   "metadata": {},
   "source": [
    "## Floats"
   ]
  },
  {
   "cell_type": "code",
   "execution_count": 10,
   "id": "687fd13d",
   "metadata": {
    "vscode": {
     "languageId": "plaintext"
    }
   },
   "outputs": [
    {
     "name": "stdout",
     "output_type": "stream",
     "text": [
      "<class 'float'>\n",
      "5.2\n"
     ]
    }
   ],
   "source": [
    "b = 5.2\n",
    "print(type(b))\n",
    "print(5.2)"
   ]
  },
  {
   "cell_type": "code",
   "execution_count": 35,
   "id": "9e96896c-dc7f-4954-9e93-b4aaf3ed7ac8",
   "metadata": {},
   "outputs": [],
   "source": [
    "#dir(b)"
   ]
  },
  {
   "cell_type": "code",
   "execution_count": 55,
   "id": "d4957b49-778f-4d56-b588-8d1b1be6d2f4",
   "metadata": {
    "scrolled": true
   },
   "outputs": [
    {
     "data": {
      "text/plain": [
       "False"
      ]
     },
     "execution_count": 55,
     "metadata": {},
     "output_type": "execute_result"
    }
   ],
   "source": [
    "b.is_integer()"
   ]
  },
  {
   "cell_type": "markdown",
   "id": "2ef528c0-ff11-40cb-b0e2-f5c05c1a7f81",
   "metadata": {},
   "source": [
    "#### function recognition"
   ]
  },
  {
   "cell_type": "code",
   "execution_count": 421,
   "id": "3e7decf7-9368-4591-b1bd-e49706c19089",
   "metadata": {},
   "outputs": [
    {
     "data": {
      "text/plain": [
       "<function float.is_integer()>"
      ]
     },
     "execution_count": 421,
     "metadata": {},
     "output_type": "execute_result"
    }
   ],
   "source": [
    "b.is_integer"
   ]
  },
  {
   "cell_type": "code",
   "execution_count": 53,
   "id": "094e19bb-5a02-4457-8e0a-cc3b041d5eaa",
   "metadata": {},
   "outputs": [
    {
     "data": {
      "text/plain": [
       "<function print(*args, sep=' ', end='\\n', file=None, flush=False)>"
      ]
     },
     "execution_count": 53,
     "metadata": {},
     "output_type": "execute_result"
    }
   ],
   "source": [
    "print"
   ]
  },
  {
   "cell_type": "markdown",
   "id": "598e1739-83b5-4cef-8016-715a10632806",
   "metadata": {},
   "source": [
    "### chained variable assignment"
   ]
  },
  {
   "cell_type": "code",
   "execution_count": 13,
   "id": "d4f290c7-20e6-47a3-8c9f-2291a5faac3a",
   "metadata": {},
   "outputs": [],
   "source": [
    "q = z = x = 6.8"
   ]
  },
  {
   "cell_type": "code",
   "execution_count": 20,
   "id": "359a350a-4ac6-45cb-a3ca-9c509ea5831e",
   "metadata": {
    "scrolled": true
   },
   "outputs": [
    {
     "name": "stdout",
     "output_type": "stream",
     "text": [
      "6.8 <class 'float'>\n",
      "6.8 <class 'float'>\n"
     ]
    }
   ],
   "source": [
    "print(q, type(q))\n",
    "print(z, type(z))"
   ]
  },
  {
   "cell_type": "markdown",
   "id": "28162d2e",
   "metadata": {},
   "source": [
    "## Complex numbers (imaginary number is defined by j, not i)"
   ]
  },
  {
   "cell_type": "code",
   "execution_count": 22,
   "id": "a6b0e549",
   "metadata": {
    "vscode": {
     "languageId": "plaintext"
    }
   },
   "outputs": [
    {
     "name": "stdout",
     "output_type": "stream",
     "text": [
      "<class 'complex'>\n"
     ]
    }
   ],
   "source": [
    "complex_number = 7 + 6j\n",
    "print(type(complex_number))"
   ]
  },
  {
   "cell_type": "markdown",
   "id": "095b177e-7974-4be2-92bc-e3775c87bb4e",
   "metadata": {
    "vscode": {
     "languageId": "plaintext"
    }
   },
   "source": [
    "## dir() "
   ]
  },
  {
   "cell_type": "code",
   "execution_count": 27,
   "id": "3f97163d-ff9b-49f7-8de9-59141c1a02d1",
   "metadata": {},
   "outputs": [],
   "source": [
    "#dir(complex_number)"
   ]
  },
  {
   "cell_type": "code",
   "execution_count": 29,
   "id": "2c2b3d58-7a4d-4fd4-8af1-3ca58e717987",
   "metadata": {},
   "outputs": [
    {
     "data": {
      "text/plain": [
       "7.0"
      ]
     },
     "execution_count": 29,
     "metadata": {},
     "output_type": "execute_result"
    }
   ],
   "source": [
    "complex_number.real"
   ]
  },
  {
   "cell_type": "code",
   "execution_count": 45,
   "id": "45dc39ee-c903-4c29-b7d2-f4af5cf52e76",
   "metadata": {},
   "outputs": [
    {
     "data": {
      "text/plain": [
       "6.0"
      ]
     },
     "execution_count": 45,
     "metadata": {},
     "output_type": "execute_result"
    }
   ],
   "source": [
    "complex_number.imag"
   ]
  },
  {
   "cell_type": "code",
   "execution_count": 41,
   "id": "f929ce52-21ed-40fa-9289-23ed1ae668fe",
   "metadata": {
    "scrolled": true
   },
   "outputs": [
    {
     "name": "stdout",
     "output_type": "stream",
     "text": [
      "7.0\n"
     ]
    }
   ],
   "source": [
    "print(complex_number.real)"
   ]
  },
  {
   "cell_type": "markdown",
   "id": "bfad5f94-d2da-4199-877e-cb17f59dca6a",
   "metadata": {},
   "source": [
    "## Augemented Variable Assignment"
   ]
  },
  {
   "cell_type": "code",
   "execution_count": 179,
   "id": "d16edfc8-6e16-4ab0-9cbc-6e5a651948e7",
   "metadata": {},
   "outputs": [],
   "source": [
    "number = 80"
   ]
  },
  {
   "cell_type": "code",
   "execution_count": 181,
   "id": "28db17f1-a756-48b9-b0fd-260f0bee9971",
   "metadata": {},
   "outputs": [
    {
     "data": {
      "text/plain": [
       "89"
      ]
     },
     "execution_count": 181,
     "metadata": {},
     "output_type": "execute_result"
    }
   ],
   "source": [
    "number + 9"
   ]
  },
  {
   "cell_type": "code",
   "execution_count": 183,
   "id": "55c92527-fcfa-4bf5-a392-68a1e9291955",
   "metadata": {},
   "outputs": [
    {
     "data": {
      "text/plain": [
       "80"
      ]
     },
     "execution_count": 183,
     "metadata": {},
     "output_type": "execute_result"
    }
   ],
   "source": [
    "number"
   ]
  },
  {
   "cell_type": "markdown",
   "id": "7b15382b-6105-41b7-a66c-8fa9bce5bcd0",
   "metadata": {},
   "source": [
    "### Basic method"
   ]
  },
  {
   "cell_type": "code",
   "execution_count": 186,
   "id": "966b4483-08d1-4dd6-a803-afece9e5728c",
   "metadata": {},
   "outputs": [
    {
     "name": "stdout",
     "output_type": "stream",
     "text": [
      "89\n"
     ]
    }
   ],
   "source": [
    "number = number + 9\n",
    "print(number)"
   ]
  },
  {
   "cell_type": "markdown",
   "id": "a46fb0df-8736-4c00-ba53-b3c909f864a5",
   "metadata": {},
   "source": [
    "### Assigning by Augmenting the Variable"
   ]
  },
  {
   "cell_type": "code",
   "execution_count": 189,
   "id": "395b517c-a152-4bf7-9d00-2b4405fcea74",
   "metadata": {},
   "outputs": [],
   "source": [
    "number += 10"
   ]
  },
  {
   "cell_type": "code",
   "execution_count": 191,
   "id": "e3b9fd58-fa04-42be-9deb-fb3ad32668bb",
   "metadata": {
    "scrolled": true
   },
   "outputs": [
    {
     "name": "stdout",
     "output_type": "stream",
     "text": [
      "99\n"
     ]
    }
   ],
   "source": [
    "print(number)"
   ]
  },
  {
   "cell_type": "markdown",
   "id": "10ca9327-fd40-4092-a94c-4763b1b2d9ba",
   "metadata": {},
   "source": [
    "#### another example"
   ]
  },
  {
   "cell_type": "code",
   "execution_count": 201,
   "id": "ed29c4ca-7f30-4e0e-8d7a-760a135f343e",
   "metadata": {},
   "outputs": [
    {
     "data": {
      "text/plain": [
       "20.0"
      ]
     },
     "execution_count": 201,
     "metadata": {},
     "output_type": "execute_result"
    }
   ],
   "source": [
    "number2 = 100\n",
    "number2 / 5"
   ]
  },
  {
   "cell_type": "code",
   "execution_count": 203,
   "id": "bfe65545-e19a-4a52-ae52-bdcdde6c2d63",
   "metadata": {},
   "outputs": [],
   "source": [
    "number2 = number2 / 5"
   ]
  },
  {
   "cell_type": "code",
   "execution_count": 205,
   "id": "4f2c3a16-5717-4c30-97c5-4b3748004719",
   "metadata": {},
   "outputs": [
    {
     "data": {
      "text/plain": [
       "20.0"
      ]
     },
     "execution_count": 205,
     "metadata": {},
     "output_type": "execute_result"
    }
   ],
   "source": [
    "number2"
   ]
  },
  {
   "cell_type": "code",
   "execution_count": 207,
   "id": "322fad15-7389-4959-8c01-d276a5cbbd04",
   "metadata": {},
   "outputs": [],
   "source": [
    "number2 /= 5"
   ]
  },
  {
   "cell_type": "code",
   "execution_count": 209,
   "id": "a7e45119-c1d7-424b-bbba-314561a678b4",
   "metadata": {},
   "outputs": [
    {
     "name": "stdout",
     "output_type": "stream",
     "text": [
      "4.0\n"
     ]
    }
   ],
   "source": [
    "print(number2)"
   ]
  },
  {
   "cell_type": "markdown",
   "id": "5c132b10-402c-4fce-a907-87116072da88",
   "metadata": {},
   "source": [
    "# Sequential data types"
   ]
  },
  {
   "cell_type": "markdown",
   "id": "6164d409-8fda-4b57-848d-a98add004438",
   "metadata": {},
   "source": [
    "## 1. Strings"
   ]
  },
  {
   "cell_type": "code",
   "execution_count": 57,
   "id": "892024c4-82c6-4289-a791-33614a25ae59",
   "metadata": {},
   "outputs": [
    {
     "name": "stdout",
     "output_type": "stream",
     "text": [
      "<class 'str'>\n"
     ]
    }
   ],
   "source": [
    "print(type(\"hello\"))"
   ]
  },
  {
   "cell_type": "code",
   "execution_count": 61,
   "id": "09291425-b424-4d5c-ad2d-13d6e65af976",
   "metadata": {},
   "outputs": [
    {
     "name": "stdout",
     "output_type": "stream",
     "text": [
      "the data type of greentings is: <class 'str'>\n"
     ]
    }
   ],
   "source": [
    "greetings = \"hi\"\n",
    "print(\"the data type of greentings is:\", type(greetings))"
   ]
  },
  {
   "cell_type": "code",
   "execution_count": 65,
   "id": "5abe5d23-ff31-4309-8da6-8dbaf6ff8ca5",
   "metadata": {},
   "outputs": [
    {
     "name": "stdout",
     "output_type": "stream",
     "text": [
      "number: 6.8 ,the data type is: <class 'float'>\n"
     ]
    }
   ],
   "source": [
    "print(\"number:\", x, \",the data type is:\", type(x))"
   ]
  },
  {
   "cell_type": "markdown",
   "id": "391751ca-af1d-4aee-8aa7-d37639f36353",
   "metadata": {},
   "source": [
    "### single quotation"
   ]
  },
  {
   "cell_type": "code",
   "execution_count": 67,
   "id": "9cf3f40c-34ee-48e0-b610-77a23d00a319",
   "metadata": {},
   "outputs": [
    {
     "data": {
      "text/plain": [
       "'today is 12th of Ordibehesht'"
      ]
     },
     "execution_count": 67,
     "metadata": {},
     "output_type": "execute_result"
    }
   ],
   "source": [
    "'today is 12th of Ordibehesht'"
   ]
  },
  {
   "cell_type": "code",
   "execution_count": 76,
   "id": "535e7a48-eeac-4bbb-8513-6994d6fcd110",
   "metadata": {},
   "outputs": [
    {
     "name": "stdout",
     "output_type": "stream",
     "text": [
      "today is 12th of Ordibehesht\n"
     ]
    }
   ],
   "source": [
    "print('today is 12th of Ordibehesht')"
   ]
  },
  {
   "cell_type": "markdown",
   "id": "55e14ded-4694-4066-bb13-a21e5ff006db",
   "metadata": {},
   "source": [
    "### double quotation"
   ]
  },
  {
   "cell_type": "code",
   "execution_count": 71,
   "id": "27d59722-965e-463e-bed4-39549b67447b",
   "metadata": {},
   "outputs": [
    {
     "data": {
      "text/plain": [
       "'the is inside a double q'"
      ]
     },
     "execution_count": 71,
     "metadata": {},
     "output_type": "execute_result"
    }
   ],
   "source": [
    "\"the is inside a double q\""
   ]
  },
  {
   "cell_type": "code",
   "execution_count": 78,
   "id": "bb26737d-4121-42b0-b924-53c22c60697a",
   "metadata": {},
   "outputs": [
    {
     "name": "stdout",
     "output_type": "stream",
     "text": [
      "the is inside a double q\n"
     ]
    }
   ],
   "source": [
    "print(\"the is inside a double q\")"
   ]
  },
  {
   "cell_type": "markdown",
   "id": "c3e9908a-1af5-4967-8966-7fb62c70275d",
   "metadata": {},
   "source": [
    "### triple quotation"
   ]
  },
  {
   "cell_type": "code",
   "execution_count": 74,
   "id": "58cf0405-7f9f-4c87-9a5b-d46069818490",
   "metadata": {},
   "outputs": [
    {
     "data": {
      "text/plain": [
       "'econometrics is a very difficult course'"
      ]
     },
     "execution_count": 74,
     "metadata": {},
     "output_type": "execute_result"
    }
   ],
   "source": [
    "\"\"\"econometrics is a very difficult course\"\"\""
   ]
  },
  {
   "cell_type": "code",
   "execution_count": 80,
   "id": "9b5aac53-0b32-4c27-a1f4-89c9d3f568e2",
   "metadata": {},
   "outputs": [
    {
     "name": "stdout",
     "output_type": "stream",
     "text": [
      "econometrics is a very difficult course\n"
     ]
    }
   ],
   "source": [
    "print(\"\"\"econometrics is a very difficult course\"\"\")"
   ]
  },
  {
   "cell_type": "markdown",
   "id": "7f69565c-3670-4b12-b60a-bd2bf4089fd7",
   "metadata": {},
   "source": [
    "### the diffence between '', \"\", and \"\"\" \"\"\""
   ]
  },
  {
   "cell_type": "code",
   "execution_count": 85,
   "id": "86872296-02ce-45da-87e0-6783f5ec9783",
   "metadata": {
    "scrolled": true
   },
   "outputs": [
    {
     "ename": "SyntaxError",
     "evalue": "unterminated string literal (detected at line 1) (589013495.py, line 1)",
     "output_type": "error",
     "traceback": [
      "\u001b[1;36m  Cell \u001b[1;32mIn[85], line 1\u001b[1;36m\u001b[0m\n\u001b[1;33m    'Scarlet's cat is 5 years old'\u001b[0m\n\u001b[1;37m                                 ^\u001b[0m\n\u001b[1;31mSyntaxError\u001b[0m\u001b[1;31m:\u001b[0m unterminated string literal (detected at line 1)\n"
     ]
    }
   ],
   "source": [
    "Scarlet's cat is 5 years old"
   ]
  },
  {
   "cell_type": "markdown",
   "id": "889365a0-6f36-4524-9f09-ee8f10ff214e",
   "metadata": {},
   "source": [
    "## Single quotation marks cannot enclose a string that contains another quotation inside."
   ]
  },
  {
   "cell_type": "code",
   "execution_count": 87,
   "id": "7478c8d8-4303-499e-9321-acdda56c6ca3",
   "metadata": {},
   "outputs": [
    {
     "ename": "SyntaxError",
     "evalue": "unterminated string literal (detected at line 1) (589013495.py, line 1)",
     "output_type": "error",
     "traceback": [
      "\u001b[1;36m  Cell \u001b[1;32mIn[87], line 1\u001b[1;36m\u001b[0m\n\u001b[1;33m    'Scarlet's cat is 5 years old'\u001b[0m\n\u001b[1;37m                                 ^\u001b[0m\n\u001b[1;31mSyntaxError\u001b[0m\u001b[1;31m:\u001b[0m unterminated string literal (detected at line 1)\n"
     ]
    }
   ],
   "source": [
    "'Scarlet's cat is 5 years old'"
   ]
  },
  {
   "cell_type": "code",
   "execution_count": 89,
   "id": "593c3716-2886-4739-83af-1e1410997565",
   "metadata": {},
   "outputs": [
    {
     "data": {
      "text/plain": [
       "\"Scarlet's cat is 5 years old\""
      ]
     },
     "execution_count": 89,
     "metadata": {},
     "output_type": "execute_result"
    }
   ],
   "source": [
    "\"Scarlet's cat is 5 years old\""
   ]
  },
  {
   "cell_type": "code",
   "execution_count": 93,
   "id": "60be65dc-a8b6-4849-bf24-abca9b51827c",
   "metadata": {},
   "outputs": [
    {
     "data": {
      "text/plain": [
       "\"Scarlet's cat is 5 years old\""
      ]
     },
     "execution_count": 93,
     "metadata": {},
     "output_type": "execute_result"
    }
   ],
   "source": [
    "\"\"\"Scarlet's cat is 5 years old\"\"\""
   ]
  },
  {
   "cell_type": "code",
   "execution_count": 99,
   "id": "458f4c7f-f1da-4a25-81de-f8805da36639",
   "metadata": {},
   "outputs": [
    {
     "name": "stdout",
     "output_type": "stream",
     "text": [
      "Help on built-in function print in module builtins:\n",
      "\n",
      "print(*args, sep=' ', end='\\n', file=None, flush=False)\n",
      "    Prints the values to a stream, or to sys.stdout by default.\n",
      "\n",
      "    sep\n",
      "      string inserted between values, default a space.\n",
      "    end\n",
      "      string appended after the last value, default a newline.\n",
      "    file\n",
      "      a file-like object (stream); defaults to the current sys.stdout.\n",
      "    flush\n",
      "      whether to forcibly flush the stream.\n",
      "\n"
     ]
    }
   ],
   "source": [
    "help(print)"
   ]
  },
  {
   "cell_type": "markdown",
   "id": "14f6424c-3ce3-4dd3-9edd-f72e745faa98",
   "metadata": {},
   "source": [
    "## Triple quotes allow us to add documentation or help text to our code, such as function docstrings."
   ]
  },
  {
   "cell_type": "code",
   "execution_count": 120,
   "id": "73c91caf-8e88-407c-890c-ed794f37532f",
   "metadata": {},
   "outputs": [],
   "source": [
    "#dir(greetings)"
   ]
  },
  {
   "cell_type": "code",
   "execution_count": 103,
   "id": "4a9dd452-1ed0-4a74-9ea5-3295fe59110a",
   "metadata": {},
   "outputs": [
    {
     "data": {
      "text/plain": [
       "'Hi'"
      ]
     },
     "execution_count": 103,
     "metadata": {},
     "output_type": "execute_result"
    }
   ],
   "source": [
    "greetings.capitalize()"
   ]
  },
  {
   "cell_type": "code",
   "execution_count": 109,
   "id": "cb7075f1-2d29-40dc-a851-63b17a2c6ede",
   "metadata": {},
   "outputs": [
    {
     "data": {
      "text/plain": [
       "1"
      ]
     },
     "execution_count": 109,
     "metadata": {},
     "output_type": "execute_result"
    }
   ],
   "source": [
    "greetings.count(\"i\")"
   ]
  },
  {
   "cell_type": "code",
   "execution_count": 111,
   "id": "17d7e30b-8bfe-4cb1-8f0d-da5aaab33707",
   "metadata": {},
   "outputs": [
    {
     "data": {
      "text/plain": [
       "'KINDERGARTEN'"
      ]
     },
     "execution_count": 111,
     "metadata": {},
     "output_type": "execute_result"
    }
   ],
   "source": [
    "\"Kindergarten\".upper()"
   ]
  },
  {
   "cell_type": "code",
   "execution_count": 113,
   "id": "170fc4f5-061b-4418-ad61-f7bab29e2b18",
   "metadata": {},
   "outputs": [
    {
     "data": {
      "text/plain": [
       "'h'"
      ]
     },
     "execution_count": 113,
     "metadata": {},
     "output_type": "execute_result"
    }
   ],
   "source": [
    "greetings[0]"
   ]
  },
  {
   "cell_type": "code",
   "execution_count": 115,
   "id": "33ec78aa-e762-4f7d-ae69-ef30ce120e39",
   "metadata": {},
   "outputs": [
    {
     "data": {
      "text/plain": [
       "'i'"
      ]
     },
     "execution_count": 115,
     "metadata": {},
     "output_type": "execute_result"
    }
   ],
   "source": [
    "greetings[1]"
   ]
  },
  {
   "cell_type": "code",
   "execution_count": 122,
   "id": "d3d043ef-9f8c-4a27-88f2-9a7ff0d09351",
   "metadata": {},
   "outputs": [
    {
     "data": {
      "text/plain": [
       "'hi'"
      ]
     },
     "execution_count": 122,
     "metadata": {},
     "output_type": "execute_result"
    }
   ],
   "source": [
    "greetings"
   ]
  },
  {
   "cell_type": "code",
   "execution_count": 126,
   "id": "98027c31-ce5a-41eb-827c-d5ade64978b9",
   "metadata": {},
   "outputs": [
    {
     "data": {
      "text/plain": [
       "'H'"
      ]
     },
     "execution_count": 126,
     "metadata": {},
     "output_type": "execute_result"
    }
   ],
   "source": [
    "greetings[0].upper()"
   ]
  },
  {
   "cell_type": "code",
   "execution_count": 128,
   "id": "1213e5f9-fe2b-4ffc-b720-a042c3b1f8b0",
   "metadata": {},
   "outputs": [
    {
     "data": {
      "text/plain": [
       "'hi'"
      ]
     },
     "execution_count": 128,
     "metadata": {},
     "output_type": "execute_result"
    }
   ],
   "source": [
    "greetings"
   ]
  },
  {
   "cell_type": "code",
   "execution_count": null,
   "id": "36b65cb2-57bc-4a1e-a62e-38555c68dd7c",
   "metadata": {},
   "outputs": [],
   "source": [
    "greetings = greetings[0].upper() + greetings[1] #Students solution"
   ]
  },
  {
   "cell_type": "code",
   "execution_count": 134,
   "id": "e5c2a844-5ca9-4fea-87d3-5b12c1e511da",
   "metadata": {},
   "outputs": [],
   "source": [
    "del greetings"
   ]
  },
  {
   "cell_type": "code",
   "execution_count": 136,
   "id": "1ff74ad6-8099-4003-a84d-dbca00755b25",
   "metadata": {},
   "outputs": [],
   "source": [
    "iran_capital = \"tehran\""
   ]
  },
  {
   "cell_type": "code",
   "execution_count": 138,
   "id": "a5884db8-80ce-4c31-ba20-ea20757bd224",
   "metadata": {},
   "outputs": [
    {
     "data": {
      "text/plain": [
       "'Tehran'"
      ]
     },
     "execution_count": 138,
     "metadata": {},
     "output_type": "execute_result"
    }
   ],
   "source": [
    "iran_capital.capitalize()"
   ]
  },
  {
   "cell_type": "code",
   "execution_count": 140,
   "id": "c18c5c45-411a-450f-b7c5-bdd5e404253d",
   "metadata": {},
   "outputs": [
    {
     "data": {
      "text/plain": [
       "'tehran'"
      ]
     },
     "execution_count": 140,
     "metadata": {},
     "output_type": "execute_result"
    }
   ],
   "source": [
    "iran_capital"
   ]
  },
  {
   "cell_type": "code",
   "execution_count": 142,
   "id": "685caebf-cb2f-44af-aa21-9abf1636eb04",
   "metadata": {},
   "outputs": [],
   "source": [
    "iran_capital = iran_capital.capitalize()"
   ]
  },
  {
   "cell_type": "code",
   "execution_count": 144,
   "id": "86920f54-51cf-45ac-8bba-c3fc29fa4293",
   "metadata": {},
   "outputs": [
    {
     "data": {
      "text/plain": [
       "'Tehran'"
      ]
     },
     "execution_count": 144,
     "metadata": {},
     "output_type": "execute_result"
    }
   ],
   "source": [
    "iran_capital"
   ]
  },
  {
   "cell_type": "markdown",
   "id": "b2fc18bb",
   "metadata": {},
   "source": [
    "## 2. Tuples (defined by comma and paranthesis)"
   ]
  },
  {
   "cell_type": "markdown",
   "id": "74b54dee-992e-4abb-85e3-250366d59c12",
   "metadata": {},
   "source": [
    "### homogeneous data strcuture"
   ]
  },
  {
   "cell_type": "code",
   "execution_count": 212,
   "id": "fa57a78d-d97c-49f8-9a16-5d331ca239dc",
   "metadata": {},
   "outputs": [
    {
     "data": {
      "text/plain": [
       "(8, 6, 9, 5)"
      ]
     },
     "execution_count": 212,
     "metadata": {},
     "output_type": "execute_result"
    }
   ],
   "source": [
    "8, 6, 9, 5"
   ]
  },
  {
   "cell_type": "code",
   "execution_count": 216,
   "id": "9ac6eaab",
   "metadata": {
    "vscode": {
     "languageId": "plaintext"
    }
   },
   "outputs": [
    {
     "data": {
      "text/plain": [
       "tuple"
      ]
     },
     "execution_count": 216,
     "metadata": {},
     "output_type": "execute_result"
    }
   ],
   "source": [
    "type((8, 6, 9, 5))"
   ]
  },
  {
   "cell_type": "code",
   "execution_count": 220,
   "id": "f9dead10",
   "metadata": {
    "vscode": {
     "languageId": "plaintext"
    }
   },
   "outputs": [],
   "source": [
    "#dir((8, 6, 9, 5))"
   ]
  },
  {
   "cell_type": "markdown",
   "id": "52ad7ca4-812d-4e8e-b969-e6c753fa7f00",
   "metadata": {},
   "source": [
    "### heterogeneous data strcuture"
   ]
  },
  {
   "cell_type": "code",
   "execution_count": 222,
   "id": "efbf0193-8433-4a5f-8243-8ae568724b91",
   "metadata": {},
   "outputs": [],
   "source": [
    "a = \"hi\", 5, 8, \"today\""
   ]
  },
  {
   "cell_type": "code",
   "execution_count": 224,
   "id": "6bf76af7-be1a-4f97-9613-faa2732418dc",
   "metadata": {},
   "outputs": [
    {
     "data": {
      "text/plain": [
       "tuple"
      ]
     },
     "execution_count": 224,
     "metadata": {},
     "output_type": "execute_result"
    }
   ],
   "source": [
    "type(a)"
   ]
  },
  {
   "cell_type": "code",
   "execution_count": 228,
   "id": "1da7a55c-9e4b-46fc-8319-fee91fb5ea9e",
   "metadata": {},
   "outputs": [],
   "source": [
    "#dir(a)"
   ]
  },
  {
   "cell_type": "code",
   "execution_count": 233,
   "id": "c003b220-0b82-4b40-b410-472e863dec64",
   "metadata": {},
   "outputs": [
    {
     "name": "stdout",
     "output_type": "stream",
     "text": [
      "hi\n"
     ]
    }
   ],
   "source": [
    "print(a[0])"
   ]
  },
  {
   "cell_type": "code",
   "execution_count": 235,
   "id": "b6a5cc47-33b7-4643-9c69-9e13c1bfc611",
   "metadata": {},
   "outputs": [
    {
     "name": "stdout",
     "output_type": "stream",
     "text": [
      "5\n"
     ]
    }
   ],
   "source": [
    "print(a[1])"
   ]
  },
  {
   "cell_type": "code",
   "execution_count": 237,
   "id": "c662d1c0-48e0-4361-a0ea-d9a0b63deb9b",
   "metadata": {},
   "outputs": [
    {
     "name": "stdout",
     "output_type": "stream",
     "text": [
      "1\n"
     ]
    }
   ],
   "source": [
    "print(a.count(5))"
   ]
  },
  {
   "cell_type": "code",
   "execution_count": 239,
   "id": "ef30c357-b651-4d52-bbad-e33e53ada1bf",
   "metadata": {},
   "outputs": [
    {
     "data": {
      "text/plain": [
       "0"
      ]
     },
     "execution_count": 239,
     "metadata": {},
     "output_type": "execute_result"
    }
   ],
   "source": [
    "a.count(10)"
   ]
  },
  {
   "cell_type": "code",
   "execution_count": 245,
   "id": "25533a79-7eb3-4c48-afcd-5a0748463310",
   "metadata": {},
   "outputs": [
    {
     "name": "stdout",
     "output_type": "stream",
     "text": [
      "the index of the element is:  2\n"
     ]
    }
   ],
   "source": [
    "print(\"the index of the element is: \", a.index(8))"
   ]
  },
  {
   "cell_type": "code",
   "execution_count": 247,
   "id": "56a9834d-defe-4379-989c-fa4a16876712",
   "metadata": {},
   "outputs": [
    {
     "name": "stdout",
     "output_type": "stream",
     "text": [
      "8\n"
     ]
    }
   ],
   "source": [
    "print(a[2])"
   ]
  },
  {
   "cell_type": "markdown",
   "id": "4e271178",
   "metadata": {},
   "source": [
    "## Lists (defined by [])"
   ]
  },
  {
   "cell_type": "code",
   "execution_count": 255,
   "id": "2c01334f",
   "metadata": {
    "vscode": {
     "languageId": "plaintext"
    }
   },
   "outputs": [
    {
     "data": {
      "text/plain": [
       "list"
      ]
     },
     "execution_count": 255,
     "metadata": {},
     "output_type": "execute_result"
    }
   ],
   "source": [
    "type([])"
   ]
  },
  {
   "cell_type": "code",
   "execution_count": 253,
   "id": "dacf7e6d-1354-43a6-8e20-7c44d69407e1",
   "metadata": {},
   "outputs": [
    {
     "data": {
      "text/plain": [
       "tuple"
      ]
     },
     "execution_count": 253,
     "metadata": {},
     "output_type": "execute_result"
    }
   ],
   "source": [
    "type(())"
   ]
  },
  {
   "cell_type": "code",
   "execution_count": 257,
   "id": "c8fe19d5-2cc9-4783-85b6-0907546ae871",
   "metadata": {},
   "outputs": [],
   "source": [
    "w = 7, 8, 9, \"good students\", \"May\", 87 #this is a tuple"
   ]
  },
  {
   "cell_type": "code",
   "execution_count": 259,
   "id": "0abfcb63",
   "metadata": {
    "vscode": {
     "languageId": "plaintext"
    }
   },
   "outputs": [],
   "source": [
    "p = [7, 8, 9, \"good students\", \"May\", 87]"
   ]
  },
  {
   "cell_type": "code",
   "execution_count": 261,
   "id": "624495c1-b77e-4143-b4b8-240576cca259",
   "metadata": {},
   "outputs": [
    {
     "data": {
      "text/plain": [
       "list"
      ]
     },
     "execution_count": 261,
     "metadata": {},
     "output_type": "execute_result"
    }
   ],
   "source": [
    "type(p)"
   ]
  },
  {
   "cell_type": "code",
   "execution_count": 263,
   "id": "67887872-f62e-487f-9889-d68bad47895c",
   "metadata": {
    "scrolled": true
   },
   "outputs": [
    {
     "data": {
      "text/plain": [
       "tuple"
      ]
     },
     "execution_count": 263,
     "metadata": {},
     "output_type": "execute_result"
    }
   ],
   "source": [
    "type(w)"
   ]
  },
  {
   "cell_type": "markdown",
   "id": "a6bbbce3-409b-4668-b831-1805cca40bce",
   "metadata": {},
   "source": [
    "### Using list() to change a tuple to a list"
   ]
  },
  {
   "cell_type": "code",
   "execution_count": 265,
   "id": "3d8fffbc-18bc-4b47-9119-34946a4496e3",
   "metadata": {},
   "outputs": [
    {
     "name": "stdout",
     "output_type": "stream",
     "text": [
      "<class 'list'>\n"
     ]
    }
   ],
   "source": [
    "w = list(w)\n",
    "print(type(w))"
   ]
  },
  {
   "cell_type": "markdown",
   "id": "827da17a-f294-4356-afc2-7175d0a92da3",
   "metadata": {},
   "source": [
    "### Using tuple() function"
   ]
  },
  {
   "cell_type": "code",
   "execution_count": 267,
   "id": "8a255cda-cb1a-4b50-8373-16ebfa181edd",
   "metadata": {},
   "outputs": [
    {
     "data": {
      "text/plain": [
       "(7, 8, 9, 'good students', 'May', 87)"
      ]
     },
     "execution_count": 267,
     "metadata": {},
     "output_type": "execute_result"
    }
   ],
   "source": [
    "tuple(w)"
   ]
  },
  {
   "cell_type": "code",
   "execution_count": 278,
   "id": "2f21e00b-b5bc-492e-8e80-a9fe3318e9ac",
   "metadata": {},
   "outputs": [],
   "source": [
    "#dir(p)"
   ]
  },
  {
   "cell_type": "code",
   "execution_count": 280,
   "id": "f0c8d46a-2010-40d0-a215-dbcfa7a90f45",
   "metadata": {},
   "outputs": [],
   "source": [
    "p.append(\"another element\")"
   ]
  },
  {
   "cell_type": "code",
   "execution_count": 282,
   "id": "aec64506-de05-4587-805b-fb0ca0951261",
   "metadata": {},
   "outputs": [
    {
     "data": {
      "text/plain": [
       "[7, 8, 9, 'good students', 'May', 87, 'another element']"
      ]
     },
     "execution_count": 282,
     "metadata": {},
     "output_type": "execute_result"
    }
   ],
   "source": [
    "p"
   ]
  },
  {
   "cell_type": "code",
   "execution_count": 284,
   "id": "17a8cf75-b010-40cd-bbfb-6689345f4b9c",
   "metadata": {},
   "outputs": [
    {
     "data": {
      "text/plain": [
       "'another element'"
      ]
     },
     "execution_count": 284,
     "metadata": {},
     "output_type": "execute_result"
    }
   ],
   "source": [
    "p.pop()"
   ]
  },
  {
   "cell_type": "code",
   "execution_count": 286,
   "id": "c6fcc51e-2c46-4a3e-80cd-d8e1017ba731",
   "metadata": {},
   "outputs": [
    {
     "data": {
      "text/plain": [
       "[7, 8, 9, 'good students', 'May', 87]"
      ]
     },
     "execution_count": 286,
     "metadata": {},
     "output_type": "execute_result"
    }
   ],
   "source": [
    "p"
   ]
  },
  {
   "cell_type": "markdown",
   "id": "ff56dc63-b36a-4d2b-922f-0f1abcdd106a",
   "metadata": {},
   "source": [
    "## Tuples are immutable "
   ]
  },
  {
   "cell_type": "code",
   "execution_count": 288,
   "id": "a39ce12d-d83e-4fe7-b81f-ec474c5ff6a5",
   "metadata": {
    "scrolled": true
   },
   "outputs": [
    {
     "ename": "AttributeError",
     "evalue": "'tuple' object has no attribute 'insert'",
     "output_type": "error",
     "traceback": [
      "\u001b[1;31m---------------------------------------------------------------------------\u001b[0m",
      "\u001b[1;31mAttributeError\u001b[0m                            Traceback (most recent call last)",
      "Cell \u001b[1;32mIn[288], line 1\u001b[0m\n\u001b[1;32m----> 1\u001b[0m \u001b[38;5;28;43mtuple\u001b[39;49m\u001b[43m(\u001b[49m\u001b[43mw\u001b[49m\u001b[43m)\u001b[49m\u001b[38;5;241;43m.\u001b[39;49m\u001b[43minsert\u001b[49m(\u001b[38;5;241m5\u001b[39m)\n",
      "\u001b[1;31mAttributeError\u001b[0m: 'tuple' object has no attribute 'insert'"
     ]
    }
   ],
   "source": [
    "tuple(w).insert(5)"
   ]
  },
  {
   "cell_type": "code",
   "execution_count": 442,
   "id": "a861b7ea-7a6c-4682-902f-0375360f2311",
   "metadata": {},
   "outputs": [
    {
     "data": {
      "text/plain": [
       "[7, 5, 5, 8, 9, 'good students', 'May', 87]"
      ]
     },
     "execution_count": 442,
     "metadata": {},
     "output_type": "execute_result"
    }
   ],
   "source": [
    "w.insert(1, 5)\n",
    "w"
   ]
  },
  {
   "cell_type": "markdown",
   "id": "7decca32",
   "metadata": {},
   "source": [
    "## dictionaries (defined by {:})"
   ]
  },
  {
   "cell_type": "code",
   "execution_count": 290,
   "id": "d40383ca",
   "metadata": {
    "vscode": {
     "languageId": "plaintext"
    }
   },
   "outputs": [
    {
     "data": {
      "text/plain": [
       "dict"
      ]
     },
     "execution_count": 290,
     "metadata": {},
     "output_type": "execute_result"
    }
   ],
   "source": [
    "type({})"
   ]
  },
  {
   "cell_type": "code",
   "execution_count": 292,
   "id": "c71d5c10",
   "metadata": {
    "vscode": {
     "languageId": "plaintext"
    }
   },
   "outputs": [],
   "source": [
    "example = {\"campus\" : \"the buildings of a college or university and the land that surrounds them\"}"
   ]
  },
  {
   "cell_type": "code",
   "execution_count": 294,
   "id": "31d3b1a4-ce9f-46c5-adb3-990615386855",
   "metadata": {},
   "outputs": [
    {
     "data": {
      "text/plain": [
       "dict"
      ]
     },
     "execution_count": 294,
     "metadata": {},
     "output_type": "execute_result"
    }
   ],
   "source": [
    "type(example)"
   ]
  },
  {
   "cell_type": "code",
   "execution_count": 296,
   "id": "37dcdfa9-1bb9-4ad8-bd51-5de3f4960f35",
   "metadata": {},
   "outputs": [
    {
     "data": {
      "text/plain": [
       "'the buildings of a college or university and the land that surrounds them'"
      ]
     },
     "execution_count": 296,
     "metadata": {},
     "output_type": "execute_result"
    }
   ],
   "source": [
    "example[\"campus\"]"
   ]
  },
  {
   "cell_type": "code",
   "execution_count": 312,
   "id": "17f5bd91-e24b-42a8-a6f2-3408a4ecc935",
   "metadata": {},
   "outputs": [],
   "source": [
    "#dir(example)"
   ]
  },
  {
   "cell_type": "code",
   "execution_count": 304,
   "id": "81cbe305-cf62-46c9-8d34-b1f5cd47c4c9",
   "metadata": {},
   "outputs": [
    {
     "data": {
      "text/plain": [
       "dict_items([('campus', 'the buildings of a college or university and the land that surrounds them')])"
      ]
     },
     "execution_count": 304,
     "metadata": {},
     "output_type": "execute_result"
    }
   ],
   "source": [
    "example.items()"
   ]
  },
  {
   "cell_type": "code",
   "execution_count": 306,
   "id": "fd5978a2-024d-413e-8a6c-56ee6dcecbb9",
   "metadata": {},
   "outputs": [],
   "source": [
    "example.clear()"
   ]
  },
  {
   "cell_type": "code",
   "execution_count": 308,
   "id": "0c6a9e3d-2859-4e73-a85b-1a28d285a421",
   "metadata": {},
   "outputs": [
    {
     "data": {
      "text/plain": [
       "{}"
      ]
     },
     "execution_count": 308,
     "metadata": {},
     "output_type": "execute_result"
    }
   ],
   "source": [
    "example"
   ]
  },
  {
   "cell_type": "code",
   "execution_count": 398,
   "id": "71d5159e-79e6-4e25-88fb-9992fcd85a68",
   "metadata": {},
   "outputs": [],
   "source": [
    "example['messi'] = 10"
   ]
  },
  {
   "cell_type": "code",
   "execution_count": 400,
   "id": "9f3204c5-77d0-411a-83cd-9058760877ff",
   "metadata": {},
   "outputs": [
    {
     "data": {
      "text/plain": [
       "{'messi': 10}"
      ]
     },
     "execution_count": 400,
     "metadata": {},
     "output_type": "execute_result"
    }
   ],
   "source": [
    "example"
   ]
  },
  {
   "cell_type": "code",
   "execution_count": 402,
   "id": "65976fdb-b702-4efb-8e43-9f9d1f81af24",
   "metadata": {},
   "outputs": [],
   "source": [
    "example.update({\"Puyol\" : 5})"
   ]
  },
  {
   "cell_type": "code",
   "execution_count": 404,
   "id": "fa2db363-41bf-4d5e-99be-db8799abb414",
   "metadata": {},
   "outputs": [
    {
     "data": {
      "text/plain": [
       "{'messi': 10, 'Puyol': 5}"
      ]
     },
     "execution_count": 404,
     "metadata": {},
     "output_type": "execute_result"
    }
   ],
   "source": [
    "example"
   ]
  },
  {
   "cell_type": "code",
   "execution_count": 412,
   "id": "8a6d120d-f694-4a74-86dc-878e98031876",
   "metadata": {},
   "outputs": [
    {
     "data": {
      "text/plain": [
       "10"
      ]
     },
     "execution_count": 412,
     "metadata": {},
     "output_type": "execute_result"
    }
   ],
   "source": [
    "example.pop(\"messi\")"
   ]
  },
  {
   "cell_type": "code",
   "execution_count": 414,
   "id": "295e1a29-9bd2-4184-87d0-5aff2824c07e",
   "metadata": {},
   "outputs": [
    {
     "data": {
      "text/plain": [
       "{'Puyol': 5}"
      ]
     },
     "execution_count": 414,
     "metadata": {},
     "output_type": "execute_result"
    }
   ],
   "source": [
    "example"
   ]
  },
  {
   "cell_type": "markdown",
   "id": "39d5dbb4",
   "metadata": {},
   "source": [
    "## Sets (defined by {})"
   ]
  },
  {
   "cell_type": "code",
   "execution_count": 352,
   "id": "23eae669",
   "metadata": {
    "vscode": {
     "languageId": "plaintext"
    }
   },
   "outputs": [],
   "source": [
    "example2 = list((1, 2, 3, 4))\n",
    "set1 = set(example2)"
   ]
  },
  {
   "cell_type": "code",
   "execution_count": 354,
   "id": "1dd51db5",
   "metadata": {
    "vscode": {
     "languageId": "plaintext"
    }
   },
   "outputs": [
    {
     "data": {
      "text/plain": [
       "set"
      ]
     },
     "execution_count": 354,
     "metadata": {},
     "output_type": "execute_result"
    }
   ],
   "source": [
    "type(set1)"
   ]
  },
  {
   "cell_type": "code",
   "execution_count": 356,
   "id": "d8559e0c",
   "metadata": {
    "vscode": {
     "languageId": "plaintext"
    }
   },
   "outputs": [],
   "source": [
    "set2 = set([8, 2, 3, 4])"
   ]
  },
  {
   "cell_type": "code",
   "execution_count": 358,
   "id": "4f7e11d2-158b-4d1b-9fa3-b5fff6ffa0df",
   "metadata": {},
   "outputs": [
    {
     "data": {
      "text/plain": [
       "{2, 3, 4}"
      ]
     },
     "execution_count": 358,
     "metadata": {},
     "output_type": "execute_result"
    }
   ],
   "source": [
    "set2.intersection(set1) #اشتراک گرفتن"
   ]
  },
  {
   "cell_type": "code",
   "execution_count": 360,
   "id": "da2a64cb-c268-462b-89f6-a48a07cf7bab",
   "metadata": {},
   "outputs": [
    {
     "data": {
      "text/plain": [
       "{1, 2, 3, 4, 8}"
      ]
     },
     "execution_count": 360,
     "metadata": {},
     "output_type": "execute_result"
    }
   ],
   "source": [
    "set2.union(set1) #اتحاد گرفتن"
   ]
  },
  {
   "cell_type": "markdown",
   "id": "9ab0ea81",
   "metadata": {},
   "source": [
    "## Bool types "
   ]
  },
  {
   "cell_type": "code",
   "execution_count": 364,
   "id": "d76937ec",
   "metadata": {
    "vscode": {
     "languageId": "plaintext"
    }
   },
   "outputs": [
    {
     "data": {
      "text/plain": [
       "2"
      ]
     },
     "execution_count": 364,
     "metadata": {},
     "output_type": "execute_result"
    }
   ],
   "source": [
    "True + 1"
   ]
  },
  {
   "cell_type": "code",
   "execution_count": 366,
   "id": "e06a5911",
   "metadata": {
    "vscode": {
     "languageId": "plaintext"
    }
   },
   "outputs": [
    {
     "data": {
      "text/plain": [
       "1"
      ]
     },
     "execution_count": 366,
     "metadata": {},
     "output_type": "execute_result"
    }
   ],
   "source": [
    "False + 1"
   ]
  },
  {
   "cell_type": "code",
   "execution_count": 368,
   "id": "331b78c1",
   "metadata": {
    "scrolled": true,
    "vscode": {
     "languageId": "plaintext"
    }
   },
   "outputs": [
    {
     "data": {
      "text/plain": [
       "True"
      ]
     },
     "execution_count": 368,
     "metadata": {},
     "output_type": "execute_result"
    }
   ],
   "source": [
    "5 == 5"
   ]
  },
  {
   "cell_type": "code",
   "execution_count": 370,
   "id": "54f60e06-1b73-4ed8-9ba6-11cc0edeba88",
   "metadata": {},
   "outputs": [
    {
     "data": {
      "text/plain": [
       "False"
      ]
     },
     "execution_count": 370,
     "metadata": {},
     "output_type": "execute_result"
    }
   ],
   "source": [
    "import math\n",
    "math.pi == 3.14"
   ]
  },
  {
   "cell_type": "code",
   "execution_count": 446,
   "id": "acd8b4f6-c698-4402-8d9c-5cc45baeee51",
   "metadata": {},
   "outputs": [
    {
     "data": {
      "text/plain": [
       "True"
      ]
     },
     "execution_count": 446,
     "metadata": {},
     "output_type": "execute_result"
    }
   ],
   "source": [
    "math.e != 2.718 #checking if the statement is false"
   ]
  },
  {
   "cell_type": "code",
   "execution_count": 444,
   "id": "14e1ccde-5ff2-4763-a31c-f3626fe514d8",
   "metadata": {},
   "outputs": [
    {
     "name": "stdout",
     "output_type": "stream",
     "text": [
      "true\n"
     ]
    }
   ],
   "source": [
    "today = 12\n",
    "\n",
    "if today == 12:\n",
    "    print(\"true\")"
   ]
  },
  {
   "cell_type": "markdown",
   "id": "ff118cdd-437f-4345-9da6-e3ce45b2bc8c",
   "metadata": {},
   "source": [
    "## Remainder"
   ]
  },
  {
   "cell_type": "code",
   "execution_count": 382,
   "id": "f6a87a35-6879-460e-80fd-dc5990961a75",
   "metadata": {},
   "outputs": [
    {
     "data": {
      "text/plain": [
       "1"
      ]
     },
     "execution_count": 382,
     "metadata": {},
     "output_type": "execute_result"
    }
   ],
   "source": [
    "100 % 99"
   ]
  },
  {
   "cell_type": "code",
   "execution_count": 384,
   "id": "2a9e3b18-c6db-43ec-b6dd-c90d4400ef97",
   "metadata": {},
   "outputs": [
    {
     "data": {
      "text/plain": [
       "0"
      ]
     },
     "execution_count": 384,
     "metadata": {},
     "output_type": "execute_result"
    }
   ],
   "source": [
    "10 % 5"
   ]
  },
  {
   "cell_type": "markdown",
   "id": "e1a371e1-0868-4030-bff0-25d27c31d09c",
   "metadata": {},
   "source": [
    "## Floor division"
   ]
  },
  {
   "cell_type": "code",
   "execution_count": 386,
   "id": "4153b56f-8121-4832-b89d-b383028ffb2a",
   "metadata": {},
   "outputs": [
    {
     "data": {
      "text/plain": [
       "9.0"
      ]
     },
     "execution_count": 386,
     "metadata": {},
     "output_type": "execute_result"
    }
   ],
   "source": [
    "81 / 9"
   ]
  },
  {
   "cell_type": "code",
   "execution_count": 388,
   "id": "87e87491-aa5d-42de-9ae4-05215460fa41",
   "metadata": {},
   "outputs": [
    {
     "data": {
      "text/plain": [
       "9"
      ]
     },
     "execution_count": 388,
     "metadata": {},
     "output_type": "execute_result"
    }
   ],
   "source": [
    "81 // 9"
   ]
  },
  {
   "cell_type": "code",
   "execution_count": 390,
   "id": "2e02bce1-d492-4b47-8b9a-d1ba187aa85b",
   "metadata": {},
   "outputs": [
    {
     "data": {
      "text/plain": [
       "9"
      ]
     },
     "execution_count": 390,
     "metadata": {},
     "output_type": "execute_result"
    }
   ],
   "source": [
    "82 // 9"
   ]
  },
  {
   "cell_type": "code",
   "execution_count": 392,
   "id": "b231ed00-f539-4285-add4-b4b930183e92",
   "metadata": {},
   "outputs": [
    {
     "data": {
      "text/plain": [
       "9"
      ]
     },
     "execution_count": 392,
     "metadata": {},
     "output_type": "execute_result"
    }
   ],
   "source": [
    "89 // 9"
   ]
  },
  {
   "cell_type": "markdown",
   "id": "f2d75266",
   "metadata": {},
   "source": [
    "## nonetypes"
   ]
  },
  {
   "cell_type": "code",
   "execution_count": 394,
   "id": "14060a0c",
   "metadata": {
    "vscode": {
     "languageId": "plaintext"
    }
   },
   "outputs": [
    {
     "name": "stdout",
     "output_type": "stream",
     "text": [
      "2\n"
     ]
    },
    {
     "data": {
      "text/plain": [
       "NoneType"
      ]
     },
     "execution_count": 394,
     "metadata": {},
     "output_type": "execute_result"
    }
   ],
   "source": [
    "type(print(2))"
   ]
  },
  {
   "cell_type": "code",
   "execution_count": 396,
   "id": "7102e34d",
   "metadata": {
    "vscode": {
     "languageId": "plaintext"
    }
   },
   "outputs": [
    {
     "name": "stdout",
     "output_type": "stream",
     "text": [
      "2\n"
     ]
    },
    {
     "ename": "TypeError",
     "evalue": "unsupported operand type(s) for +: 'NoneType' and 'int'",
     "output_type": "error",
     "traceback": [
      "\u001b[1;31m---------------------------------------------------------------------------\u001b[0m",
      "\u001b[1;31mTypeError\u001b[0m                                 Traceback (most recent call last)",
      "Cell \u001b[1;32mIn[396], line 1\u001b[0m\n\u001b[1;32m----> 1\u001b[0m \u001b[38;5;28;43mprint\u001b[39;49m\u001b[43m(\u001b[49m\u001b[38;5;241;43m2\u001b[39;49m\u001b[43m)\u001b[49m\u001b[43m \u001b[49m\u001b[38;5;241;43m+\u001b[39;49m\u001b[43m \u001b[49m\u001b[38;5;241;43m2\u001b[39;49m\n",
      "\u001b[1;31mTypeError\u001b[0m: unsupported operand type(s) for +: 'NoneType' and 'int'"
     ]
    }
   ],
   "source": [
    "print(2) + 2"
   ]
  },
  {
   "cell_type": "markdown",
   "id": "bcc51b74",
   "metadata": {},
   "source": [
    "# numpy library (next session)"
   ]
  },
  {
   "cell_type": "markdown",
   "id": "bafdff0a",
   "metadata": {},
   "source": [
    "pip install numpy"
   ]
  },
  {
   "cell_type": "markdown",
   "id": "8be0822c-9a58-476f-a223-366d0b25c543",
   "metadata": {},
   "source": [
    "# Exercises"
   ]
  },
  {
   "cell_type": "markdown",
   "id": "c005d4d1-d2d7-4d4e-8b86-221442a7cb9d",
   "metadata": {},
   "source": [
    "### 1. Modify the following variable using different augmented assignment operators (+=, -=, *=, /=). Try using **= and %= as well and observe the results."
   ]
  },
  {
   "cell_type": "code",
   "execution_count": 453,
   "id": "84be5065-58ad-4e6a-bcb0-4df31802d633",
   "metadata": {},
   "outputs": [],
   "source": [
    "xn = 120"
   ]
  },
  {
   "cell_type": "markdown",
   "id": "8ad88082-1fe8-47b6-a9c4-11609d6d19df",
   "metadata": {},
   "source": [
    "### 2. Given text = \"I love Econometrics\", modify it using methods like .upper(), .replace(), and .split()."
   ]
  },
  {
   "cell_type": "markdown",
   "id": "238a27ec-115e-4dfe-a623-029660e3c9c8",
   "metadata": {},
   "source": [
    "### 3. We can get also get input from the user:"
   ]
  },
  {
   "cell_type": "code",
   "execution_count": 459,
   "id": "b6a15c91-9b5b-4873-8616-e2db54153c14",
   "metadata": {},
   "outputs": [
    {
     "name": "stdin",
     "output_type": "stream",
     "text": [
      "Enter a Number Please:  5\n"
     ]
    }
   ],
   "source": [
    "user_input = input(\"Enter a Number Please: \")"
   ]
  },
  {
   "cell_type": "markdown",
   "id": "f40fde99-6e67-4d60-84f0-cff59df6ce16",
   "metadata": {},
   "source": [
    "### Check the variable data typle and convert it float"
   ]
  },
  {
   "cell_type": "markdown",
   "id": "d25e79f0-6890-4b02-a408-84fb71533e1c",
   "metadata": {},
   "source": [
    "### 4. Define three sets and check their intersection, union, disjoint status, and subset relationships."
   ]
  },
  {
   "cell_type": "markdown",
   "id": "c4df7f45-55c8-42cf-a78a-48f27b133776",
   "metadata": {},
   "source": [
    "### 5. Dictionary Exercise: Student Grades\n",
    "\n",
    "- Task:\n",
    "  \n",
    "- Create a dictionary storing students' names and their exam scores.\n",
    "\n",
    "- Add a new student to the dictionary.\n",
    "\n",
    "- Retrieve and print a specific student’s score."
   ]
  },
  {
   "cell_type": "markdown",
   "id": "8523ae99-733b-4dc4-a3d9-3d810a72b017",
   "metadata": {},
   "source": [
    "### 6. Write a code that checks if a number is even "
   ]
  },
  {
   "cell_type": "code",
   "execution_count": null,
   "id": "c2619054-0d60-4d36-af6f-686450bb3668",
   "metadata": {},
   "outputs": [],
   "source": []
  },
  {
   "cell_type": "code",
   "execution_count": null,
   "id": "637f553e-eaab-47db-9454-72efe68b4051",
   "metadata": {},
   "outputs": [],
   "source": []
  }
 ],
 "metadata": {
  "kernelspec": {
   "display_name": "Python 3 (ipykernel)",
   "language": "python",
   "name": "python3"
  },
  "language_info": {
   "codemirror_mode": {
    "name": "ipython",
    "version": 3
   },
   "file_extension": ".py",
   "mimetype": "text/x-python",
   "name": "python",
   "nbconvert_exporter": "python",
   "pygments_lexer": "ipython3",
   "version": "3.12.7"
  }
 },
 "nbformat": 4,
 "nbformat_minor": 5
}
