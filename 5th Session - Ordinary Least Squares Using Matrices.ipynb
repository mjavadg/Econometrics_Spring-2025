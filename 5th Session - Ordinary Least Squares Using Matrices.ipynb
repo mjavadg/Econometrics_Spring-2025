{
 "cells": [
  {
   "cell_type": "markdown",
   "id": "67b26be5-ccf8-422d-a849-aaf46a3f7b15",
   "metadata": {},
   "source": [
    "# Econometrics"
   ]
  },
  {
   "cell_type": "markdown",
   "id": "54f4f752-5443-45bb-abab-c96b67c30f29",
   "metadata": {},
   "source": [
    "# Fifth Session"
   ]
  },
  {
   "cell_type": "markdown",
   "id": "fb1d64ca-68b9-4f1d-897c-050238e572e5",
   "metadata": {},
   "source": [
    "# Ordinary Least Squares Using Matrices"
   ]
  },
  {
   "cell_type": "markdown",
   "id": "858fa4fa-da6c-476d-a029-9a2fbb0167ed",
   "metadata": {},
   "source": [
    "## An example"
   ]
  },
  {
   "cell_type": "code",
   "execution_count": 15,
   "id": "7eed2475-2cd4-4162-9e5a-6704386d3aa2",
   "metadata": {},
   "outputs": [],
   "source": [
    "import pandas as pd\n",
    "import numpy as np\n",
    "import matplotlib.pyplot as plt"
   ]
  },
  {
   "cell_type": "code",
   "execution_count": 25,
   "id": "89a0c003-52ae-46bd-bd46-7790324e4877",
   "metadata": {},
   "outputs": [],
   "source": [
    "sheet_name = 'HW'\n",
    "file_path = 'first session.xlsx'\n",
    "\n",
    "data_hw = pd.read_excel(file_path, sheet_name) #header = None means no header exists, but in our file we headers"
   ]
  },
  {
   "cell_type": "code",
   "execution_count": 27,
   "id": "a55bce9d-981f-4dbd-8a9a-fff89fd3a218",
   "metadata": {},
   "outputs": [
    {
     "data": {
      "text/html": [
       "<div>\n",
       "<style scoped>\n",
       "    .dataframe tbody tr th:only-of-type {\n",
       "        vertical-align: middle;\n",
       "    }\n",
       "\n",
       "    .dataframe tbody tr th {\n",
       "        vertical-align: top;\n",
       "    }\n",
       "\n",
       "    .dataframe thead th {\n",
       "        text-align: right;\n",
       "    }\n",
       "</style>\n",
       "<table border=\"1\" class=\"dataframe\">\n",
       "  <thead>\n",
       "    <tr style=\"text-align: right;\">\n",
       "      <th></th>\n",
       "      <th>First</th>\n",
       "      <th>Second</th>\n",
       "    </tr>\n",
       "  </thead>\n",
       "  <tbody>\n",
       "    <tr>\n",
       "      <th>0</th>\n",
       "      <td>1.5</td>\n",
       "      <td>2.85</td>\n",
       "    </tr>\n",
       "    <tr>\n",
       "      <th>1</th>\n",
       "      <td>2.0</td>\n",
       "      <td>3.60</td>\n",
       "    </tr>\n",
       "    <tr>\n",
       "      <th>2</th>\n",
       "      <td>2.5</td>\n",
       "      <td>4.15</td>\n",
       "    </tr>\n",
       "    <tr>\n",
       "      <th>3</th>\n",
       "      <td>3.0</td>\n",
       "      <td>5.00</td>\n",
       "    </tr>\n",
       "    <tr>\n",
       "      <th>4</th>\n",
       "      <td>3.5</td>\n",
       "      <td>5.85</td>\n",
       "    </tr>\n",
       "  </tbody>\n",
       "</table>\n",
       "</div>"
      ],
      "text/plain": [
       "   First  Second\n",
       "0    1.5    2.85\n",
       "1    2.0    3.60\n",
       "2    2.5    4.15\n",
       "3    3.0    5.00\n",
       "4    3.5    5.85"
      ]
     },
     "execution_count": 27,
     "metadata": {},
     "output_type": "execute_result"
    }
   ],
   "source": [
    "data_hw.head()"
   ]
  },
  {
   "cell_type": "code",
   "execution_count": 31,
   "id": "101c5cef-a78a-4c3f-8c7e-bc790225ba7e",
   "metadata": {},
   "outputs": [
    {
     "data": {
      "text/plain": [
       "34    37.0\n",
       "35    38.0\n",
       "36    39.0\n",
       "37    40.0\n",
       "38    41.0\n",
       "Name: First, dtype: float64"
      ]
     },
     "execution_count": 31,
     "metadata": {},
     "output_type": "execute_result"
    }
   ],
   "source": [
    "(data_hw['First'] + data_hw['First']).tail()"
   ]
  },
  {
   "cell_type": "markdown",
   "id": "54c70e68-ed9f-42a2-9af8-2115a8833b97",
   "metadata": {},
   "source": [
    "## adding intercept"
   ]
  },
  {
   "cell_type": "code",
   "execution_count": 34,
   "id": "b0a8c875-d8b8-4888-95d3-071c3bb1d2bc",
   "metadata": {},
   "outputs": [
    {
     "data": {
      "text/plain": [
       "array([[2],\n",
       "       [3],\n",
       "       [4]])"
      ]
     },
     "execution_count": 34,
     "metadata": {},
     "output_type": "execute_result"
    }
   ],
   "source": [
    "S = np.array([[2], [3], [4]])\n",
    "S"
   ]
  },
  {
   "cell_type": "code",
   "execution_count": 36,
   "id": "3e000241-6fb1-4dd0-a2c5-c8dc37e108eb",
   "metadata": {},
   "outputs": [
    {
     "data": {
      "text/plain": [
       "array([1., 1.])"
      ]
     },
     "execution_count": 36,
     "metadata": {},
     "output_type": "execute_result"
    }
   ],
   "source": [
    "np.ones(2)"
   ]
  },
  {
   "cell_type": "code",
   "execution_count": 42,
   "id": "f2004d8d-87be-4621-8429-5169670a041f",
   "metadata": {},
   "outputs": [
    {
     "data": {
      "text/plain": [
       "(3, 1)"
      ]
     },
     "execution_count": 42,
     "metadata": {},
     "output_type": "execute_result"
    }
   ],
   "source": [
    "S.shape"
   ]
  },
  {
   "cell_type": "code",
   "execution_count": 44,
   "id": "0af52c5b-7d6b-4123-8991-bfcd17c461d4",
   "metadata": {},
   "outputs": [
    {
     "data": {
      "text/plain": [
       "3"
      ]
     },
     "execution_count": 44,
     "metadata": {},
     "output_type": "execute_result"
    }
   ],
   "source": [
    "S.shape[0]"
   ]
  },
  {
   "cell_type": "code",
   "execution_count": 46,
   "id": "27498cd8-8195-4f62-8878-230f129f0439",
   "metadata": {},
   "outputs": [
    {
     "data": {
      "text/plain": [
       "array([1., 1., 1.])"
      ]
     },
     "execution_count": 46,
     "metadata": {},
     "output_type": "execute_result"
    }
   ],
   "source": [
    "np.ones(S.shape[0])"
   ]
  },
  {
   "cell_type": "markdown",
   "id": "190bd5ef-23db-414d-b3ea-17ad1a6b26e2",
   "metadata": {},
   "source": [
    "## np.column_stack()"
   ]
  },
  {
   "cell_type": "code",
   "execution_count": 62,
   "id": "8e131c2c-cd08-49ed-a320-2a2498d94f39",
   "metadata": {},
   "outputs": [
    {
     "data": {
      "text/plain": [
       "array([[2, 2],\n",
       "       [3, 3],\n",
       "       [4, 4]])"
      ]
     },
     "execution_count": 62,
     "metadata": {},
     "output_type": "execute_result"
    }
   ],
   "source": [
    "np.column_stack((S, S))"
   ]
  },
  {
   "cell_type": "code",
   "execution_count": 64,
   "id": "a0a8d03c-a64f-4fdc-ba51-8d4a8c7ae27f",
   "metadata": {},
   "outputs": [
    {
     "data": {
      "text/plain": [
       "array([[2, 2, 2],\n",
       "       [3, 3, 3],\n",
       "       [4, 4, 4]])"
      ]
     },
     "execution_count": 64,
     "metadata": {},
     "output_type": "execute_result"
    }
   ],
   "source": [
    "np.column_stack((S, S, S))"
   ]
  },
  {
   "cell_type": "code",
   "execution_count": 68,
   "id": "a228a0b1-3aa6-45cb-bd7c-6cd41abf5745",
   "metadata": {},
   "outputs": [
    {
     "data": {
      "text/plain": [
       "array([[1., 2.],\n",
       "       [1., 3.],\n",
       "       [1., 4.]])"
      ]
     },
     "execution_count": 68,
     "metadata": {},
     "output_type": "execute_result"
    }
   ],
   "source": [
    "S_with_ones = np.column_stack((np.ones(S.shape[0]), S))\n",
    "S_with_ones"
   ]
  },
  {
   "cell_type": "markdown",
   "id": "f051e2e4-2fb6-4979-b12d-5f5de0a54e4e",
   "metadata": {},
   "source": [
    "## Running the OLS\n",
    "\n",
    "### $\\beta = (X'X)^{-1} X'Y$"
   ]
  },
  {
   "cell_type": "code",
   "execution_count": 71,
   "id": "79c36ea0-42c9-4207-86b5-700528ee3c34",
   "metadata": {},
   "outputs": [
    {
     "data": {
      "text/plain": [
       "0    1.5\n",
       "1    2.0\n",
       "2    2.5\n",
       "3    3.0\n",
       "4    3.5\n",
       "Name: First, dtype: float64"
      ]
     },
     "execution_count": 71,
     "metadata": {},
     "output_type": "execute_result"
    }
   ],
   "source": [
    "X = data_hw['First']\n",
    "X.head()"
   ]
  },
  {
   "cell_type": "code",
   "execution_count": 73,
   "id": "bfc3dad3-d671-4cb3-8ac2-703a2baf8753",
   "metadata": {},
   "outputs": [
    {
     "data": {
      "text/plain": [
       "(39,)"
      ]
     },
     "execution_count": 73,
     "metadata": {},
     "output_type": "execute_result"
    }
   ],
   "source": [
    "X.shape"
   ]
  },
  {
   "cell_type": "code",
   "execution_count": 114,
   "id": "eed9f1f9-3184-4cca-b909-b7b46654e046",
   "metadata": {},
   "outputs": [
    {
     "data": {
      "text/plain": [
       "pandas.core.series.Series"
      ]
     },
     "execution_count": 114,
     "metadata": {},
     "output_type": "execute_result"
    }
   ],
   "source": [
    "type(X)"
   ]
  },
  {
   "cell_type": "code",
   "execution_count": 89,
   "id": "bc750769-ea5d-48ee-872c-6977edaaa184",
   "metadata": {},
   "outputs": [
    {
     "data": {
      "text/plain": [
       "array([[1. , 1.5],\n",
       "       [1. , 2. ],\n",
       "       [1. , 2.5],\n",
       "       [1. , 3. ],\n",
       "       [1. , 3.5]])"
      ]
     },
     "execution_count": 89,
     "metadata": {},
     "output_type": "execute_result"
    }
   ],
   "source": [
    "X_with_intercept = np.column_stack((np.ones(X.shape[0]), X))\n",
    "X_with_intecept[0:5]"
   ]
  },
  {
   "cell_type": "code",
   "execution_count": 116,
   "id": "a6263d36-2243-4809-b170-7a5b59e238fe",
   "metadata": {},
   "outputs": [
    {
     "data": {
      "text/plain": [
       "numpy.ndarray"
      ]
     },
     "execution_count": 116,
     "metadata": {},
     "output_type": "execute_result"
    }
   ],
   "source": [
    "type(X_with_intercept)"
   ]
  },
  {
   "cell_type": "code",
   "execution_count": 91,
   "id": "81f66d17-40a8-4537-ac9e-8491c0ada32b",
   "metadata": {},
   "outputs": [],
   "source": [
    "X_prime = X_with_intercept.T"
   ]
  },
  {
   "cell_type": "code",
   "execution_count": 101,
   "id": "1c5543a4-ab90-47f6-bd45-2f05b0e5bf99",
   "metadata": {},
   "outputs": [
    {
     "data": {
      "text/plain": [
       "array([2. , 2.5, 3. , 3.5])"
      ]
     },
     "execution_count": 101,
     "metadata": {},
     "output_type": "execute_result"
    }
   ],
   "source": [
    "X_prime[1][1:5]"
   ]
  },
  {
   "cell_type": "code",
   "execution_count": 103,
   "id": "1d054be5-8e0b-4fe8-ace9-0cd35ec79ab6",
   "metadata": {},
   "outputs": [
    {
     "data": {
      "text/plain": [
       "array([[  39.,  429.],\n",
       "       [ 429., 5954.]])"
      ]
     },
     "execution_count": 103,
     "metadata": {},
     "output_type": "execute_result"
    }
   ],
   "source": [
    "X_prime_X = X_prime @ X_with_intercept\n",
    "X_prime_X"
   ]
  },
  {
   "cell_type": "code",
   "execution_count": 105,
   "id": "002fbcf1-a8fb-41c4-9f0a-7e12ad192022",
   "metadata": {},
   "outputs": [
    {
     "data": {
      "text/plain": [
       "array([[ 0.12361673, -0.00890688],\n",
       "       [-0.00890688,  0.00080972]])"
      ]
     },
     "execution_count": 105,
     "metadata": {},
     "output_type": "execute_result"
    }
   ],
   "source": [
    "inverse_of_X_prime_X = np.linalg.inv(X_prime_X)\n",
    "inverse_of_X_prime_X"
   ]
  },
  {
   "cell_type": "code",
   "execution_count": 107,
   "id": "5dbb3ce6-d39d-434c-93f6-286b27479221",
   "metadata": {},
   "outputs": [
    {
     "data": {
      "text/plain": [
       "array([0.25036437, 1.56744939])"
      ]
     },
     "execution_count": 107,
     "metadata": {},
     "output_type": "execute_result"
    }
   ],
   "source": [
    "Y = data_hw['Second']\n",
    "estimators = inverse_of_X_prime_X @ X_prime @ Y\n",
    "estimators"
   ]
  },
  {
   "cell_type": "markdown",
   "id": "41c1691b-a37a-40af-af54-616a7b8caf31",
   "metadata": {},
   "source": [
    "## Introduction to f-string"
   ]
  },
  {
   "cell_type": "code",
   "execution_count": 110,
   "id": "3ab4e1c4-0ea2-42ae-99c7-8ee8dc628ff5",
   "metadata": {},
   "outputs": [
    {
     "name": "stdout",
     "output_type": "stream",
     "text": [
      "intercept:  0.25036437246963894\n",
      "slope:  1.5674493927125515\n"
     ]
    }
   ],
   "source": [
    "print(\"intercept: \", estimators[0])\n",
    "print(\"slope: \", estimators[1])"
   ]
  },
  {
   "cell_type": "code",
   "execution_count": 112,
   "id": "50486fee-364d-4ad9-9c2b-83dc05007068",
   "metadata": {},
   "outputs": [
    {
     "name": "stdout",
     "output_type": "stream",
     "text": [
      "Intercept: 0.25036437246963894\n",
      "coefficient: 1.5674493927125515\n"
     ]
    }
   ],
   "source": [
    "print(f\"Intercept: {estimators[0]}\")\n",
    "print(f\"coefficient: {estimators[1]}\")"
   ]
  },
  {
   "cell_type": "markdown",
   "id": "d6cc1e77-bf71-44a6-bb00-ee0fabccd9f9",
   "metadata": {},
   "source": [
    "## Tranforming the data to numpy array right from the beginning"
   ]
  },
  {
   "cell_type": "code",
   "execution_count": 119,
   "id": "8354d0d7-46b6-4a5a-8276-a657812fb484",
   "metadata": {},
   "outputs": [],
   "source": [
    "sheet_name = 'HW'\n",
    "file_path = 'first session.xlsx'\n",
    "\n",
    "data_hw = pd.read_excel(file_path, sheet_name)"
   ]
  },
  {
   "cell_type": "code",
   "execution_count": 121,
   "id": "da27c821-18db-4cad-93f9-3ef666d620ac",
   "metadata": {},
   "outputs": [
    {
     "data": {
      "text/plain": [
       "array([ 1.5,  2. ,  2.5,  3. ,  3.5,  4. ,  4.5,  5. ,  5.5,  6. ,  6.5,\n",
       "        7. ,  7.5,  8. ,  8.5,  9. ,  9.5, 10. , 10.5, 11. , 11.5, 12. ,\n",
       "       12.5, 13. , 13.5, 14. , 14.5, 15. , 15.5, 16. , 16.5, 17. , 17.5,\n",
       "       18. , 18.5, 19. , 19.5, 20. , 20.5])"
      ]
     },
     "execution_count": 121,
     "metadata": {},
     "output_type": "execute_result"
    }
   ],
   "source": [
    "data_hw['First'].values"
   ]
  },
  {
   "cell_type": "code",
   "execution_count": 123,
   "id": "5fdebb9f-68b6-40dc-bfaf-7a03680337d4",
   "metadata": {},
   "outputs": [
    {
     "data": {
      "text/plain": [
       "(39,)"
      ]
     },
     "execution_count": 123,
     "metadata": {},
     "output_type": "execute_result"
    }
   ],
   "source": [
    "data_hw['First'].values.shape"
   ]
  },
  {
   "cell_type": "code",
   "execution_count": 129,
   "id": "ca045e7e-52df-4628-91de-6fbd8df1c2ae",
   "metadata": {},
   "outputs": [
    {
     "data": {
      "text/plain": [
       "array([[2. ],\n",
       "       [2.5],\n",
       "       [3. ],\n",
       "       [3.5]])"
      ]
     },
     "execution_count": 129,
     "metadata": {},
     "output_type": "execute_result"
    }
   ],
   "source": [
    "data_hw['First'].values.reshape(-1, 1)[1:5]"
   ]
  },
  {
   "cell_type": "code",
   "execution_count": 569,
   "id": "02314f7d-cadd-454b-b356-af02ab3a04c7",
   "metadata": {},
   "outputs": [
    {
     "data": {
      "text/plain": [
       "(39, 1)"
      ]
     },
     "execution_count": 569,
     "metadata": {},
     "output_type": "execute_result"
    }
   ],
   "source": [
    "X = data_hw['First'].values.reshape(-1, 1)\n",
    "X.shape"
   ]
  },
  {
   "cell_type": "code",
   "execution_count": 571,
   "id": "0bacbf13-2bce-46d0-9a2b-eb88b27a14cc",
   "metadata": {},
   "outputs": [
    {
     "data": {
      "text/plain": [
       "(39, 1)"
      ]
     },
     "execution_count": 571,
     "metadata": {},
     "output_type": "execute_result"
    }
   ],
   "source": [
    "Y = data_hw['Second'].values.reshape(-1, 1)\n",
    "Y.shape"
   ]
  },
  {
   "cell_type": "code",
   "execution_count": 573,
   "id": "49926b70-a65a-41ac-aca2-0519722754b3",
   "metadata": {},
   "outputs": [
    {
     "data": {
      "text/plain": [
       "numpy.ndarray"
      ]
     },
     "execution_count": 573,
     "metadata": {},
     "output_type": "execute_result"
    }
   ],
   "source": [
    "type(X)"
   ]
  },
  {
   "cell_type": "code",
   "execution_count": 574,
   "id": "78fc097f-a6b7-4323-ae0a-831d7dc761e7",
   "metadata": {},
   "outputs": [
    {
     "data": {
      "text/plain": [
       "array([[1. , 1.5],\n",
       "       [1. , 2. ],\n",
       "       [1. , 2.5]])"
      ]
     },
     "execution_count": 574,
     "metadata": {},
     "output_type": "execute_result"
    }
   ],
   "source": [
    "X = np.column_stack((np.ones(X.shape[0]), X))\n",
    "X[0:3]"
   ]
  },
  {
   "cell_type": "code",
   "execution_count": 577,
   "id": "842ec0e1-c791-4547-99a9-42d2a852e8b9",
   "metadata": {},
   "outputs": [],
   "source": [
    "X_transpose = X.transpose()"
   ]
  },
  {
   "cell_type": "code",
   "execution_count": 579,
   "id": "2bb3e16f-2dee-4ebd-8b69-d01d07754a68",
   "metadata": {},
   "outputs": [
    {
     "data": {
      "text/plain": [
       "array([[ 0.12361673, -0.00890688],\n",
       "       [-0.00890688,  0.00080972]])"
      ]
     },
     "execution_count": 579,
     "metadata": {},
     "output_type": "execute_result"
    }
   ],
   "source": [
    "inverse_X_transpose_X = np.linalg.inv(X_transpose @ X)\n",
    "inverse_X_transpose_X"
   ]
  },
  {
   "cell_type": "code",
   "execution_count": 581,
   "id": "7db8f465-40df-4057-ad66-569d3bff0ecf",
   "metadata": {},
   "outputs": [
    {
     "name": "stdout",
     "output_type": "stream",
     "text": [
      "Intercept: [0.25036437]\n",
      "coefficient: [1.56744939]\n"
     ]
    }
   ],
   "source": [
    "estim = inverse_X_transpose_X @ X_transpose @ Y\n",
    "print(f\"Intercept: {estim[0]}\")\n",
    "print(f\"coefficient: {estim[1]}\")"
   ]
  },
  {
   "cell_type": "markdown",
   "id": "d80d446d-004b-4682-b837-7798b56f0319",
   "metadata": {},
   "source": [
    "## Calculating the Sum of Squared Residuals (1st Method)"
   ]
  },
  {
   "cell_type": "code",
   "execution_count": 584,
   "id": "355de274-d7a9-4a24-aa63-8dd5113b5c93",
   "metadata": {},
   "outputs": [
    {
     "data": {
      "text/plain": [
       "array([[3.38526316],\n",
       "       [4.16898785],\n",
       "       [4.95271255],\n",
       "       [5.73643725]])"
      ]
     },
     "execution_count": 584,
     "metadata": {},
     "output_type": "execute_result"
    }
   ],
   "source": [
    "Y_hat = X @ estim\n",
    "Y_hat[1:5]"
   ]
  },
  {
   "cell_type": "code",
   "execution_count": 586,
   "id": "1eed3c8b-151b-4e57-809e-327dd3cc6fd2",
   "metadata": {},
   "outputs": [
    {
     "data": {
      "text/plain": [
       "array([[ 0.21473684],\n",
       "       [-0.01898785],\n",
       "       [ 0.04728745],\n",
       "       [ 0.11356275]])"
      ]
     },
     "execution_count": 586,
     "metadata": {},
     "output_type": "execute_result"
    }
   ],
   "source": [
    "residuals = Y - Y_hat\n",
    "residuals[1:5]"
   ]
  },
  {
   "cell_type": "code",
   "execution_count": 588,
   "id": "88101e70-3501-49f8-bedd-76c033683515",
   "metadata": {},
   "outputs": [
    {
     "name": "stdout",
     "output_type": "stream",
     "text": [
      "e'e or sum squared residulas is equal to [[0.26915789]]\n"
     ]
    }
   ],
   "source": [
    "SSR = residuals.T @ residuals\n",
    "print(f\"e'e or sum squared residulas is equal to {SSR}\")"
   ]
  },
  {
   "cell_type": "markdown",
   "id": "18d5cf4c-9df6-410b-8434-4ddfe5822765",
   "metadata": {},
   "source": [
    "## M Matrix that is idempotent and symmetric\n",
    "\n",
    "### $ e = Y - \\hat Y = Y - X(X'X)^{-1} X' Y = [I - X(X'X)^{-1} X']Y = MY$\n",
    "\n",
    "### $M^2 = M$"
   ]
  },
  {
   "cell_type": "code",
   "execution_count": 591,
   "id": "f91889fb-498b-4e16-bbe4-5d21ec287b00",
   "metadata": {},
   "outputs": [
    {
     "data": {
      "text/plain": [
       "array([[1., 0., 0.],\n",
       "       [0., 1., 0.],\n",
       "       [0., 0., 1.]])"
      ]
     },
     "execution_count": 591,
     "metadata": {},
     "output_type": "execute_result"
    }
   ],
   "source": [
    "np.eye(3)"
   ]
  },
  {
   "cell_type": "code",
   "execution_count": 593,
   "id": "c2bf04fb-409c-4071-813c-425c9d3a3ff1",
   "metadata": {},
   "outputs": [
    {
     "data": {
      "text/plain": [
       "(39, 2)"
      ]
     },
     "execution_count": 593,
     "metadata": {},
     "output_type": "execute_result"
    }
   ],
   "source": [
    "X.shape"
   ]
  },
  {
   "cell_type": "code",
   "execution_count": 595,
   "id": "f7ead02b-9c16-4b3e-83d9-8fce45b1137f",
   "metadata": {},
   "outputs": [
    {
     "data": {
      "text/plain": [
       "39"
      ]
     },
     "execution_count": 595,
     "metadata": {},
     "output_type": "execute_result"
    }
   ],
   "source": [
    "X.shape[0]"
   ]
  },
  {
   "cell_type": "code",
   "execution_count": 597,
   "id": "f08a0b47-4d0e-4626-b7e0-00168c159e1d",
   "metadata": {},
   "outputs": [],
   "source": [
    "I = (np.eye(X.shape[0]))"
   ]
  },
  {
   "cell_type": "code",
   "execution_count": 601,
   "id": "81ea1ce9-d300-4a62-9d97-3d2406c14638",
   "metadata": {},
   "outputs": [
    {
     "data": {
      "text/plain": [
       "array([[-0.08333333, -0.07948718, -0.07564103],\n",
       "       [-0.0802969 , -0.07665317, -0.07300945],\n",
       "       [-0.07726046, -0.07381916, -0.07037787],\n",
       "       [-0.07422402, -0.07098516, -0.06774629],\n",
       "       [ 0.92881242, -0.06815115, -0.06511471]])"
      ]
     },
     "execution_count": 601,
     "metadata": {},
     "output_type": "execute_result"
    }
   ],
   "source": [
    "M = I - X @ inverse_X_transpose_X @ X_transpose\n",
    "M[0:5, 4: 7]"
   ]
  },
  {
   "cell_type": "code",
   "execution_count": 624,
   "id": "1ae08e9a-aa27-4fe2-9e29-2bd495466e18",
   "metadata": {},
   "outputs": [
    {
     "data": {
      "text/plain": [
       "array([[ 0.90128205, -0.09487179, -0.09102564, -0.08717949, -0.08333333],\n",
       "       [-0.09487179,  0.90877193, -0.08758435, -0.08394062, -0.0802969 ],\n",
       "       [-0.09102564, -0.08758435,  0.91585695, -0.08070175, -0.07726046],\n",
       "       [-0.08717949, -0.08394062, -0.08070175,  0.92253711, -0.07422402],\n",
       "       [-0.08333333, -0.0802969 , -0.07726046, -0.07422402,  0.92881242]])"
      ]
     },
     "execution_count": 624,
     "metadata": {},
     "output_type": "execute_result"
    }
   ],
   "source": [
    "squared_M = M @ M\n",
    "squared_M[0:5, 0:5]"
   ]
  },
  {
   "cell_type": "code",
   "execution_count": 626,
   "id": "2d51b219-8681-4e61-bb2d-04ff3351d13b",
   "metadata": {},
   "outputs": [
    {
     "data": {
      "text/plain": [
       "array([[ 0.90128205, -0.09487179, -0.09102564, -0.08717949, -0.08333333],\n",
       "       [-0.09487179,  0.90877193, -0.08758435, -0.08394062, -0.0802969 ],\n",
       "       [-0.09102564, -0.08758435,  0.91585695, -0.08070175, -0.07726046],\n",
       "       [-0.08717949, -0.08394062, -0.08070175,  0.92253711, -0.07422402],\n",
       "       [-0.08333333, -0.0802969 , -0.07726046, -0.07422402,  0.92881242]])"
      ]
     },
     "execution_count": 626,
     "metadata": {},
     "output_type": "execute_result"
    }
   ],
   "source": [
    "(squared_M @ M @ M)[0:5, 0:5]"
   ]
  },
  {
   "cell_type": "markdown",
   "id": "15ae4220-6b0f-45ab-bd51-524cbbeb0241",
   "metadata": {},
   "source": [
    "## Calculating the Sum of Squared Residuals (2nd Method)\n",
    "\n",
    "### $e'e = Y'MY$"
   ]
  },
  {
   "cell_type": "code",
   "execution_count": 229,
   "id": "a5815374-69c4-44be-b9d6-5a42c84ef541",
   "metadata": {},
   "outputs": [
    {
     "data": {
      "text/plain": [
       "array([[ 0.24846154],\n",
       "       [ 0.21473684],\n",
       "       [-0.01898785],\n",
       "       [ 0.04728745],\n",
       "       [ 0.11356275]])"
      ]
     },
     "execution_count": 229,
     "metadata": {},
     "output_type": "execute_result"
    }
   ],
   "source": [
    "(M @ Y)[:5,]"
   ]
  },
  {
   "cell_type": "code",
   "execution_count": 231,
   "id": "aba529c4-9a11-49f7-b976-b84f1543f103",
   "metadata": {},
   "outputs": [
    {
     "data": {
      "text/plain": [
       "array([[0.26915789]])"
      ]
     },
     "execution_count": 231,
     "metadata": {},
     "output_type": "execute_result"
    }
   ],
   "source": [
    "e_prime_e = Y.T @ M @ Y\n",
    "e_prime_e"
   ]
  },
  {
   "cell_type": "code",
   "execution_count": 233,
   "id": "b4278da3-4d76-4668-86fe-5dfef4b0ce20",
   "metadata": {},
   "outputs": [
    {
     "name": "stdout",
     "output_type": "stream",
     "text": [
      "each method calculated a different value\n"
     ]
    }
   ],
   "source": [
    "if e_prime_e == SSR:\n",
    "    print(\"Both methods calculated the same value\")\n",
    "else:\n",
    "    print(\"each method calculated a different value\")"
   ]
  },
  {
   "cell_type": "markdown",
   "id": "f717760f-5982-48c3-aa5a-273bb0eba924",
   "metadata": {},
   "source": [
    "## Estimating the intercept and coefficient for a population"
   ]
  },
  {
   "cell_type": "markdown",
   "id": "9ee55b08-602c-47d5-baad-4e891a2933ec",
   "metadata": {},
   "source": [
    "### first we Create two populations for independent variables"
   ]
  },
  {
   "cell_type": "code",
   "execution_count": 473,
   "id": "670837d7-ed95-4096-90df-0fe1d32481f3",
   "metadata": {},
   "outputs": [
    {
     "data": {
      "text/plain": [
       "array([ 30.77429418,  -1.0431678 , -13.341727  , ...,  22.37857966,\n",
       "        10.53883427, -31.83335808])"
      ]
     },
     "execution_count": 473,
     "metadata": {},
     "output_type": "execute_result"
    }
   ],
   "source": [
    "np.random.seed(37)\n",
    "n = 10000\n",
    "X1 = np.random.laplace(0,14, n)\n",
    "X1"
   ]
  },
  {
   "cell_type": "code",
   "execution_count": 475,
   "id": "cb443fec-1477-4b82-ba2d-84ee6ea1ac2c",
   "metadata": {},
   "outputs": [
    {
     "name": "stdout",
     "output_type": "stream",
     "text": [
      "(10000, 1)\n"
     ]
    },
    {
     "data": {
      "text/plain": [
       "array([[0.35886978],\n",
       "       [0.78715143],\n",
       "       [0.97868659],\n",
       "       ...,\n",
       "       [0.80822939],\n",
       "       [0.24943065],\n",
       "       [0.53917845]])"
      ]
     },
     "execution_count": 475,
     "metadata": {},
     "output_type": "execute_result"
    }
   ],
   "source": [
    "X2 = np.random.rand(n, 1)\n",
    "print(X2.shape)\n",
    "X2"
   ]
  },
  {
   "cell_type": "markdown",
   "id": "bbe205fb-06c2-4c2a-9536-c4cbc1fd6c21",
   "metadata": {},
   "source": [
    "### Setting the population parameters"
   ]
  },
  {
   "cell_type": "code",
   "execution_count": 478,
   "id": "2c2c1098-c36e-4ff2-8023-77c257a82af6",
   "metadata": {},
   "outputs": [
    {
     "data": {
      "text/plain": [
       "array([[ 38.23923164,   0.05827726, -14.69999377, ...,  28.16437422,\n",
       "         13.95667975, -36.88995106],\n",
       "       [ 38.96731044,   0.78635606, -13.97191498, ...,  28.89245302,\n",
       "         14.68475855, -36.16187227],\n",
       "       [ 39.29292022,   1.11196584, -13.64630519, ...,  29.2180628 ,\n",
       "         15.01036833, -35.83626248],\n",
       "       ...,\n",
       "       [ 39.00314297,   0.82218859, -13.93608244, ...,  28.92828555,\n",
       "         14.72059108, -36.12603973],\n",
       "       [ 38.05318512,  -0.12776926, -14.88604029, ...,  27.9783277 ,\n",
       "         13.77063323, -37.07599758],\n",
       "       [ 38.54575638,   0.364802  , -14.39346904, ...,  28.47089896,\n",
       "         14.26320449, -36.58342633]])"
      ]
     },
     "execution_count": 478,
     "metadata": {},
     "output_type": "execute_result"
    }
   ],
   "source": [
    "alpha = 0.7\n",
    "beta1 = 1.2\n",
    "beta2 = 1.7\n",
    "\n",
    "Y = alpha + beta1 * X1 + beta2 * X2\n",
    "Y"
   ]
  },
  {
   "cell_type": "code",
   "execution_count": 479,
   "id": "ed905b4b-a34e-457b-b4b6-c2eac6a97df8",
   "metadata": {},
   "outputs": [
    {
     "data": {
      "text/plain": [
       "(10000,)"
      ]
     },
     "execution_count": 479,
     "metadata": {},
     "output_type": "execute_result"
    }
   ],
   "source": [
    "X1.flatten().shape"
   ]
  },
  {
   "cell_type": "markdown",
   "id": "98b139d2-885f-40bb-8211-ad748ee9b21d",
   "metadata": {},
   "source": [
    "## We assume that the population is deterministic rather than stochastic, meaning that Y is fully explained by X1 and X2."
   ]
  },
  {
   "cell_type": "code",
   "execution_count": 483,
   "id": "b52d00d4-bb98-45c5-88ff-3da994a3c56e",
   "metadata": {
    "scrolled": true
   },
   "outputs": [
    {
     "data": {
      "text/plain": [
       "array([ 38.23923164,   0.78635606, -13.64630519, ...,  28.92828555,\n",
       "        13.77063323, -36.58342633])"
      ]
     },
     "execution_count": 483,
     "metadata": {},
     "output_type": "execute_result"
    }
   ],
   "source": [
    "Y_pop = alpha + beta1 * X1.flatten() + beta2 * X2.flatten()\n",
    "Y_pop"
   ]
  },
  {
   "cell_type": "markdown",
   "id": "27b7c41b-a920-414d-8423-0405fb4b37ec",
   "metadata": {},
   "source": [
    "## Another assumption is that, when modeling Y based on explanatory variables, we do not have access to X2 and can only model Y using X1. Therefore, we must account for a stochastic term when modeling Y based on X1—this term, epsilon, follows a stochastic process."
   ]
  },
  {
   "cell_type": "code",
   "execution_count": 486,
   "id": "365878f9-0dcb-4433-978b-e2d3408adb95",
   "metadata": {},
   "outputs": [],
   "source": [
    "epsilon = np.random.normal(0, 1, n)\n",
    "Y_observed = alpha + beta1 * X1.flatten() + epsilon"
   ]
  },
  {
   "cell_type": "markdown",
   "id": "5634a388-e969-47a3-99f5-6e7eb7539177",
   "metadata": {},
   "source": [
    "### We sample `X1` and `Y_observed` to simulate real-world limitations where data access is restricted. Indices are randomly chosen without replacement to form subsets for analysis. Since `X2` is unavailable, we introduce a stochastic term to adjust for missing explanatory power. In reality, access to `X1` and `Y` may also be limited, requiring such sampling approaches."
   ]
  },
  {
   "cell_type": "code",
   "execution_count": 520,
   "id": "d41d82b0-ac18-473b-9f3c-8e047b5e5049",
   "metadata": {},
   "outputs": [],
   "source": [
    "sample_size = 100\n",
    "indices = np.random.choice(10000, sample_size, replace=False)\n",
    "\n",
    "X1_sample = X1[indices]\n",
    "Y_sample = Y_observed[indices]"
   ]
  },
  {
   "cell_type": "code",
   "execution_count": 522,
   "id": "041ed24a-8189-47d6-a591-d866e4359a07",
   "metadata": {},
   "outputs": [
    {
     "data": {
      "text/plain": [
       "(100,)"
      ]
     },
     "execution_count": 522,
     "metadata": {},
     "output_type": "execute_result"
    }
   ],
   "source": [
    "Y_sample.shape"
   ]
  },
  {
   "cell_type": "code",
   "execution_count": 530,
   "id": "6bfae10a-7bbf-498a-95b6-2fa58716c5c8",
   "metadata": {},
   "outputs": [
    {
     "data": {
      "text/plain": [
       "(100,)"
      ]
     },
     "execution_count": 530,
     "metadata": {},
     "output_type": "execute_result"
    }
   ],
   "source": [
    "X1_sample.shape"
   ]
  },
  {
   "cell_type": "code",
   "execution_count": 532,
   "id": "1b994522-0b58-4e11-9158-d0b7cf48fdf6",
   "metadata": {},
   "outputs": [
    {
     "data": {
      "text/plain": [
       "(100, 1)"
      ]
     },
     "execution_count": 532,
     "metadata": {},
     "output_type": "execute_result"
    }
   ],
   "source": [
    "X1_sample_reshaped = X1_sample.reshape(100, 1)\n",
    "X1_sample_reshaped.shape"
   ]
  },
  {
   "cell_type": "code",
   "execution_count": 536,
   "id": "735386fd-d562-4e60-89ee-051ed2c8d644",
   "metadata": {},
   "outputs": [
    {
     "data": {
      "text/plain": [
       "(100, 1)"
      ]
     },
     "execution_count": 536,
     "metadata": {},
     "output_type": "execute_result"
    }
   ],
   "source": [
    "Y_sample_reshaped = Y_sample.reshape(100, 1)\n",
    "Y_sample_reshaped.shape"
   ]
  },
  {
   "cell_type": "markdown",
   "id": "b610797c-90fb-4bfa-80a5-fa9541e0b068",
   "metadata": {},
   "source": [
    "### ADDING INTERCEPT"
   ]
  },
  {
   "cell_type": "code",
   "execution_count": 538,
   "id": "5a6f3a9c-af63-42ba-b512-e6031a790351",
   "metadata": {},
   "outputs": [
    {
     "data": {
      "text/plain": [
       "(100, 2)"
      ]
     },
     "execution_count": 538,
     "metadata": {},
     "output_type": "execute_result"
    }
   ],
   "source": [
    "X1_sample_reshaped_with_intercept = np.column_stack((np.ones(X1_sample_reshaped.shape[0]), X1_sample_reshaped))\n",
    "X1_sample_reshaped_with_intercept.shape"
   ]
  },
  {
   "cell_type": "markdown",
   "id": "d7918c1e-dc2a-4359-bf1b-09bb660fe39f",
   "metadata": {},
   "source": [
    "### $\\beta = (X'X)^{-1} X'Y$"
   ]
  },
  {
   "cell_type": "code",
   "execution_count": 540,
   "id": "b17429a3-68d0-48f6-924c-86fb7b84d58b",
   "metadata": {},
   "outputs": [],
   "source": [
    "XTX_inv = np.linalg.inv(X1_sample_reshaped_with_intercept.T @ X1_sample_reshaped_with_intercept)"
   ]
  },
  {
   "cell_type": "code",
   "execution_count": 542,
   "id": "4162b316-9698-404e-abf8-630da47cb97f",
   "metadata": {},
   "outputs": [],
   "source": [
    "XTY = X1_sample_reshaped_with_intercept.T @ Y_sample_reshaped"
   ]
  },
  {
   "cell_type": "code",
   "execution_count": 544,
   "id": "71062ac1-5961-432c-b349-c1e91022063f",
   "metadata": {},
   "outputs": [],
   "source": [
    "intercept_and_slope = XTX_inv @ XTY"
   ]
  },
  {
   "cell_type": "code",
   "execution_count": 546,
   "id": "041d4bb0-8d63-4668-8c52-34ba1d4d585c",
   "metadata": {},
   "outputs": [
    {
     "data": {
      "text/plain": [
       "array([[0.72939531],\n",
       "       [1.2047024 ]])"
      ]
     },
     "execution_count": 546,
     "metadata": {},
     "output_type": "execute_result"
    }
   ],
   "source": [
    "intercept_and_slope"
   ]
  },
  {
   "cell_type": "code",
   "execution_count": 611,
   "id": "d0444fae-053d-48c6-a20f-bb12c3214019",
   "metadata": {},
   "outputs": [
    {
     "name": "stdout",
     "output_type": "stream",
     "text": [
      "Intercept: [0.72939531]\n",
      "coefficient: [1.2047024]\n"
     ]
    }
   ],
   "source": [
    "print(f\"Intercept: {intercept_and_slope[0]}\")\n",
    "print(f\"coefficient: {intercept_and_slope[1]}\")"
   ]
  },
  {
   "cell_type": "markdown",
   "id": "1f145b3d-58a8-44e3-8d77-aaac6a33961c",
   "metadata": {},
   "source": [
    "# Exercise"
   ]
  },
  {
   "cell_type": "markdown",
   "id": "979bd5f1-d86c-4431-bf96-bfd41f037916",
   "metadata": {},
   "source": [
    "## 1. Use the second sheet of the Excel file and complete the following steps:\n",
    "\n",
    "### - Calculate the intercept and coefficient using matrix operations.\n",
    "### - Compute the Sum of Squared Residuals (SSR) using two methods discussed in this session."
   ]
  },
  {
   "cell_type": "markdown",
   "id": "1af17d43-c70d-413b-b448-2455964850df",
   "metadata": {},
   "source": [
    "### 2. Define two variables using random generation functions, then create a new variable as their linear combination (e.g., $2x_1 + 3x_2 = y$) \n",
    "\n",
    "### - Use np.random.choice() to sample random values from y created in the second exercise. Also, sample vectors from that y. \n",
    "### - Construct a 3×3 matrix using the sampled values from 𝑦."
   ]
  }
 ],
 "metadata": {
  "kernelspec": {
   "display_name": "Python 3 (ipykernel)",
   "language": "python",
   "name": "python3"
  },
  "language_info": {
   "codemirror_mode": {
    "name": "ipython",
    "version": 3
   },
   "file_extension": ".py",
   "mimetype": "text/x-python",
   "name": "python",
   "nbconvert_exporter": "python",
   "pygments_lexer": "ipython3",
   "version": "3.12.7"
  }
 },
 "nbformat": 4,
 "nbformat_minor": 5
}
