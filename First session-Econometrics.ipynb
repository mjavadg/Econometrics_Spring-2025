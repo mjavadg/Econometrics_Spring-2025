{
 "cells": [
  {
   "cell_type": "markdown",
   "id": "8f33f363-121a-4c9f-a200-637b64a8ccce",
   "metadata": {},
   "source": [
    "# Econometrics\n",
    "\n",
    "<div dir = \"rtl\">\n",
    "اقتصادسنجی"
   ]
  },
  {
   "cell_type": "markdown",
   "id": "c0e754d9-df71-48a9-9b1b-be76c27978a4",
   "metadata": {},
   "source": [
    "## First session\n",
    "\n",
    "<div dir = 'rtl'>\n",
    "نخستین جلسه"
   ]
  },
  {
   "cell_type": "markdown",
   "id": "0ddf9425",
   "metadata": {},
   "source": [
    "### The goal of this activity is to replicate our Excel calculations of $R^2$ in Python. We will compute the averages, determine the slope ($\\beta_1$) and intercept ($\\beta_0$), and calculate the total sum of squares (SST) and sum of squared errors (SSE) to derive the $R^2$ value.\n",
    "\n",
    "<div dir='rtl'>\n",
    "هدف این فعالیت این است که محاسبات ضریب تعیین را که در اکسل انجام دادیم، در پایتون انجام دهیم. میانگین دو داده، شیب، عرض از مبدا را محاسبه خواهیم کرد و بعد با محاسبه‌ی \n",
    "SST\n",
    "و\n",
    "SSE\n",
    "ضریب تعیین را محاسبه خواهیم کرد.\n"
   ]
  },
  {
   "cell_type": "markdown",
   "id": "c719ff79",
   "metadata": {},
   "source": [
    "### First of all, we need to understand what Python recognizes and what it does not. We will start with some numbers to see if they are recognized.\n",
    "\n",
    "<div dir = \"rtl\">\n",
    "در ابتدا باید بفهمیم پایتون چه چیزی را تشخیص می‌دهد و چه چیزی را تشخیص نمی‌دهد. با اعداد شروع می‌کنیم تا ببینیم پایتون آنها را شناسایی می‌کند یا خیر. "
   ]
  },
  {
   "cell_type": "code",
   "execution_count": 1,
   "id": "9cce056d",
   "metadata": {},
   "outputs": [
    {
     "data": {
      "text/plain": [
       "5"
      ]
     },
     "execution_count": 1,
     "metadata": {},
     "output_type": "execute_result"
    }
   ],
   "source": [
    "5"
   ]
  },
  {
   "cell_type": "code",
   "execution_count": null,
   "id": "f29bd779-664f-4c23-954d-2bd94d324ab6",
   "metadata": {},
   "outputs": [
    {
     "data": {
      "text/plain": [
       "10"
      ]
     },
     "execution_count": 64,
     "metadata": {},
     "output_type": "execute_result"
    }
   ],
   "source": [
    "5+5 #this is addition"
   ]
  },
  {
   "cell_type": "markdown",
   "id": "a6264110",
   "metadata": {},
   "source": [
    "### We can use # to comment in our codes. Python will not read what comes after #.\n",
    "\n",
    "<div dir =\"rtl\">\n",
    "از # در کدها می‌توانیم برای کامنت گذاشتن استفاده کنیم. پایتون آنها را نمی‌خواند. "
   ]
  },
  {
   "cell_type": "code",
   "execution_count": 4,
   "id": "dac66d80",
   "metadata": {},
   "outputs": [
    {
     "data": {
      "text/plain": [
       "0"
      ]
     },
     "execution_count": 4,
     "metadata": {},
     "output_type": "execute_result"
    }
   ],
   "source": [
    "5 - 5"
   ]
  },
  {
   "cell_type": "code",
   "execution_count": 2,
   "id": "b2eb87fd",
   "metadata": {},
   "outputs": [
    {
     "data": {
      "text/plain": [
       "25"
      ]
     },
     "execution_count": 2,
     "metadata": {},
     "output_type": "execute_result"
    }
   ],
   "source": [
    "5 * 5"
   ]
  },
  {
   "cell_type": "code",
   "execution_count": null,
   "id": "5b8af4dc-bc64-4d62-be0e-a29fa5426b5d",
   "metadata": {},
   "outputs": [
    {
     "data": {
      "text/plain": [
       "3125"
      ]
     },
     "execution_count": 55,
     "metadata": {},
     "output_type": "execute_result"
    }
   ],
   "source": [
    "5**5 #"
   ]
  },
  {
   "cell_type": "code",
   "execution_count": 3,
   "id": "f331d50e",
   "metadata": {},
   "outputs": [
    {
     "data": {
      "text/plain": [
       "1.0"
      ]
     },
     "execution_count": 3,
     "metadata": {},
     "output_type": "execute_result"
    }
   ],
   "source": [
    "5 / 5"
   ]
  },
  {
   "cell_type": "markdown",
   "id": "f361559e",
   "metadata": {},
   "source": [
    "### We see that Python is capable of understanding numbers and supports mathematical operations such as addition (+), subtraction (-), multiplication (*), exponentiation (**), and division (/).\n",
    "\n",
    "<div dir = \"rtl\">\n",
    "مشاهده می‌کنیم که پایتون توانایی شناسایی اعداد را دارد و از عملیات‌های ریاضی مانند جمع (+)، تفریق (-)، ضرب (*)، توان (**) و تقسیم (/) پشتیبانی می‌کند. "
   ]
  },
  {
   "cell_type": "code",
   "execution_count": 66,
   "id": "0e01589b-b505-4c16-a8d3-a58d11ec68ec",
   "metadata": {},
   "outputs": [
    {
     "data": {
      "text/plain": [
       "6.12"
      ]
     },
     "execution_count": 66,
     "metadata": {},
     "output_type": "execute_result"
    }
   ],
   "source": [
    "2.34\n",
    "3.56\n",
    "4.78\n",
    "5.9\n",
    "6.12"
   ]
  },
  {
   "cell_type": "markdown",
   "id": "a39d652c",
   "metadata": {},
   "source": [
    "### The above code and its result do not imply that Python only recognizes the number 6.12; rather, it demonstrates how memory works in Python. All numbers are read and recognized, but the last value stored in memory is 6.12.\n",
    "\n",
    "<div dir =\"rtl\">\n",
    "کد بالا و نتیجه‌اش دلالت بر این ندارند که پایتون تنها عدد 6.12 را می‌شناسد، بلکه این کد نشان می‌دهد که کارکرد مموری در پایتون چگونه است: همه‌ی اعداد خوانده و شناسایی می‌شوند ولی تنها آخرین عدد در مموری باقی می‌ماند."
   ]
  },
  {
   "cell_type": "markdown",
   "id": "df9de287",
   "metadata": {},
   "source": [
    "### To address this issue, we can assign each number to a variable. By doing so, we ensure that all values are stored in memory, making it easy to call them whenever needed. For example:\n",
    "\n",
    "<div dir =\"rtl\">\n",
    "برای رفع این مشکل، می‌توانیم برای هر عدد یک متغیر اختصاص دهیم. با انجام این کار، اطمینان حاصل می‌کنیم که همه مقادیر در حافظه ذخیره می‌شوند و به راحتی می‌توان آن‌ها را در هر زمان که لازم بود به فراخوانی کرد. به عنوان مثال:"
   ]
  },
  {
   "cell_type": "code",
   "execution_count": 5,
   "id": "617fa4d7-bdfe-464b-946f-dc594bb8b6fa",
   "metadata": {},
   "outputs": [],
   "source": [
    "obs1 = 2.34\n",
    "obs2 = 3.56\n",
    "obs3 = 4.78\n",
    "obs4 = 5.9\n",
    "obs5 = 6.12"
   ]
  },
  {
   "cell_type": "code",
   "execution_count": 6,
   "id": "d25c9b7b-e1c2-43c0-829d-9b6cfbb77182",
   "metadata": {},
   "outputs": [
    {
     "data": {
      "text/plain": [
       "3.56"
      ]
     },
     "execution_count": 6,
     "metadata": {},
     "output_type": "execute_result"
    }
   ],
   "source": [
    "obs2"
   ]
  },
  {
   "cell_type": "code",
   "execution_count": 7,
   "id": "46eb5990",
   "metadata": {},
   "outputs": [
    {
     "data": {
      "text/plain": [
       "4.78"
      ]
     },
     "execution_count": 7,
     "metadata": {},
     "output_type": "execute_result"
    }
   ],
   "source": [
    "obs3"
   ]
  },
  {
   "cell_type": "markdown",
   "id": "147df128",
   "metadata": {},
   "source": [
    "### Another way to ensure that all numbers are processed in Python, rather than just the last one stored in memory, is to use the print function. By printing each number, we can display all of them in the output. For example:\n",
    "\n",
    "<div dir =\"rtl\">\n",
    "راه دیگر برای اطمینان از اینکه همه‌ی اعداد و نه فقط آخرین عدد در پایتون پردازش می‌شوند، استفاده از تابع پرینت است. با پرینت هر عدد می‌توانیم همه‌ی آنها را در خروجی نمایش دهیم. به عنوان مثال:"
   ]
  },
  {
   "cell_type": "code",
   "execution_count": 8,
   "id": "fc43a728",
   "metadata": {},
   "outputs": [
    {
     "name": "stdout",
     "output_type": "stream",
     "text": [
      "2.34\n",
      "3.56\n",
      "4.78\n",
      "5.9\n",
      "6.12\n"
     ]
    }
   ],
   "source": [
    "print(2.34)\n",
    "print(3.56)\n",
    "print(4.78)\n",
    "print(5.9)\n",
    "print(6.12)"
   ]
  },
  {
   "cell_type": "markdown",
   "id": "a9a64e0f",
   "metadata": {},
   "source": [
    "## Functions take some arguments, perform operations on them, and return a result. For example, consider the following function:\n",
    "\n",
    "<div dir = \"rtl\">\n",
    "توابع تعدادی آرگومان  می گیرند، عملیاتی را روی آنها انجام می‌دهند و نتیجه را برمی‌گردانند. به عنوان مثال، تابع  زیر را در نظر بگیرید:\n",
    "<div>\n"
   ]
  },
  {
   "cell_type": "markdown",
   "id": "d92153bc",
   "metadata": {},
   "source": [
    "### $f(x,y) = xy$\n",
    "### $f(1, 2) = 1 \\times 2 = 2$\n",
    "### $(3, 2) = 3 \\times 2 = 6$"
   ]
  },
  {
   "cell_type": "markdown",
   "id": "73feda24",
   "metadata": {},
   "source": [
    "### We can also print defined variables\n",
    "\n",
    "<div dir = \"rtl\">\n",
    "همچنین می‌توانیم متغیرهای تعریف شده را پرینت بگیریم"
   ]
  },
  {
   "cell_type": "code",
   "execution_count": 10,
   "id": "f500b4b2-9046-4838-b5d4-34473d352a49",
   "metadata": {},
   "outputs": [
    {
     "name": "stdout",
     "output_type": "stream",
     "text": [
      "3.56\n",
      "2.34\n",
      "4.78\n",
      "6.12\n"
     ]
    }
   ],
   "source": [
    "print(obs2)\n",
    "print(obs1)\n",
    "print(obs3)\n",
    "print(obs5)"
   ]
  },
  {
   "cell_type": "markdown",
   "id": "0f660a76",
   "metadata": {},
   "source": [
    "### If we attempt to call an undefined variable in Python, the interpreter will raise an error. For example, if we try to use a variable that hasn't been defined, we will encounter a NameError:\n",
    "\n",
    "<div dir = \"rtl\">\n",
    "اگر بخواهیم یک متغیر تعریف نشده را در پایتون فراخوانی کنیم، پایتون خطا می‌دهد. به عنوان مثال، اگر بخواهیم از متغیری استفاده کنیم که تعریف نشده است، با یک NameError مواجه می‌شویم:"
   ]
  },
  {
   "cell_type": "code",
   "execution_count": 11,
   "id": "3aa36063",
   "metadata": {},
   "outputs": [
    {
     "ename": "NameError",
     "evalue": "name 'example_error' is not defined",
     "output_type": "error",
     "traceback": [
      "\u001b[1;31m---------------------------------------------------------------------------\u001b[0m",
      "\u001b[1;31mNameError\u001b[0m                                 Traceback (most recent call last)",
      "Cell \u001b[1;32mIn[11], line 1\u001b[0m\n\u001b[1;32m----> 1\u001b[0m \u001b[43mexample_error\u001b[49m\n",
      "\u001b[1;31mNameError\u001b[0m: name 'example_error' is not defined"
     ]
    }
   ],
   "source": [
    "example_error"
   ]
  },
  {
   "cell_type": "markdown",
   "id": "b497c065",
   "metadata": {},
   "source": [
    "### We can also assign multiple numbers to a single variable\n",
    "\n",
    "<div dir = \"rtl\">\n",
    "همچنین می‌توانیم چند عدد را به یک متغیر مرتبط کنیم"
   ]
  },
  {
   "cell_type": "code",
   "execution_count": 74,
   "id": "85b8e4d7-2057-454a-9760-055826ec8241",
   "metadata": {},
   "outputs": [],
   "source": [
    "data1 = 2.34, 3.56, 4.78, 5.9, 6.12"
   ]
  },
  {
   "cell_type": "code",
   "execution_count": 76,
   "id": "e18a4f6f-c5ea-439d-a747-a72e7d1518c3",
   "metadata": {},
   "outputs": [
    {
     "data": {
      "text/plain": [
       "(2.34, 3.56, 4.78, 5.9, 6.12)"
      ]
     },
     "execution_count": 76,
     "metadata": {},
     "output_type": "execute_result"
    }
   ],
   "source": [
    "data1"
   ]
  },
  {
   "cell_type": "markdown",
   "id": "9faa31cc",
   "metadata": {},
   "source": [
    "### Assigning variables helps us streamline our code by reducing redundancy. By storing a value in a variable, we can use that variable in calculations whenever needed, rather than repeating the same number multiple times. For example, if we have a constant value that we need to use in several calculations, we can assign it to a variable and reference that variable instead:"
   ]
  },
  {
   "cell_type": "code",
   "execution_count": 12,
   "id": "c4ca6d2a",
   "metadata": {},
   "outputs": [],
   "source": [
    "constant_value = 5\n",
    "result1 = constant_value * 2\n",
    "result2 = constant_value + 3"
   ]
  },
  {
   "cell_type": "code",
   "execution_count": 13,
   "id": "7061bc0d",
   "metadata": {},
   "outputs": [
    {
     "name": "stdout",
     "output_type": "stream",
     "text": [
      "10\n",
      "8\n"
     ]
    }
   ],
   "source": [
    "print(result1)\n",
    "print(result2)"
   ]
  },
  {
   "cell_type": "markdown",
   "id": "d519c434-6c5b-43c4-a999-3e03d5bbc7c8",
   "metadata": {},
   "source": [
    "## What Does Python Recognize These Values and Variables As?\n",
    "\n",
    "<div dir =\"rtl\">\n",
    "پایتون این متغیرها و این مقادیر به عنوان چه چیزی می‌شناسد؟"
   ]
  },
  {
   "cell_type": "code",
   "execution_count": 91,
   "id": "3a25565a-bd4f-4ced-a87d-f9741324e7f9",
   "metadata": {},
   "outputs": [
    {
     "data": {
      "text/plain": [
       "int"
      ]
     },
     "execution_count": 91,
     "metadata": {},
     "output_type": "execute_result"
    }
   ],
   "source": [
    "type(5)"
   ]
  },
  {
   "cell_type": "markdown",
   "id": "5000c125",
   "metadata": {},
   "source": [
    "### Integers\n",
    "\n",
    "<div dir = \"rtl\">\n",
    "عدد صحیح"
   ]
  },
  {
   "cell_type": "code",
   "execution_count": 14,
   "id": "197c8495-934f-4996-aecf-9b9688712d24",
   "metadata": {},
   "outputs": [
    {
     "data": {
      "text/plain": [
       "float"
      ]
     },
     "execution_count": 14,
     "metadata": {},
     "output_type": "execute_result"
    }
   ],
   "source": [
    "type(obs5)"
   ]
  },
  {
   "cell_type": "markdown",
   "id": "c825d2e1",
   "metadata": {},
   "source": [
    "### Floating point numbers\n",
    "\n",
    "<div dir = \"rtl\">\n",
    "اعداد اعشاری"
   ]
  },
  {
   "cell_type": "code",
   "execution_count": 95,
   "id": "8cdc3794-4263-4434-9b58-90ec78313d45",
   "metadata": {},
   "outputs": [
    {
     "data": {
      "text/plain": [
       "builtin_function_or_method"
      ]
     },
     "execution_count": 95,
     "metadata": {},
     "output_type": "execute_result"
    }
   ],
   "source": [
    "type(print)"
   ]
  },
  {
   "cell_type": "markdown",
   "id": "6bd9ed91",
   "metadata": {},
   "source": [
    "### print is known as a function\n",
    "\n",
    "<div dir = \"rtl\">\n",
    "پرینت به عنوان یک تابع شناسایی می‌شود"
   ]
  },
  {
   "cell_type": "markdown",
   "id": "5e4bf235",
   "metadata": {},
   "source": [
    "### Up to now, we have understood that some concepts are already known and defined in Python, such as built-in functions like print() and type(), as well as data types like integers (e.g., 5) and floats (e.g., 5.2). However, there are certain mathematical constants, such as π (pi) and e (the base of natural logarithms), that are not predefined in Python:\n",
    "\n",
    "<div dir =\"rtl\">\n",
    "تاکنون متوجه شده‌ایم که برخی از مفاهیم از قبل در پایتون شناخته شده و تعریف شده‌اند، مانند توابع  print و type، و همچنین انواع داده‌ها مانند اعداد صحیح (مثلاً 5) و اعداد اعشاری (مثلاً 5.2). با این حال، همه چیز برای پایتون تعریف نشده است مانند π (pi) و e (پایه لگاریتم‌های طبیعی):"
   ]
  },
  {
   "cell_type": "code",
   "execution_count": 99,
   "id": "29361cd2-f620-428e-8f4a-f82292cf28c8",
   "metadata": {},
   "outputs": [
    {
     "ename": "NameError",
     "evalue": "name 'pi' is not defined",
     "output_type": "error",
     "traceback": [
      "\u001b[1;31m---------------------------------------------------------------------------\u001b[0m",
      "\u001b[1;31mNameError\u001b[0m                                 Traceback (most recent call last)",
      "Cell \u001b[1;32mIn[99], line 1\u001b[0m\n\u001b[1;32m----> 1\u001b[0m \u001b[43mpi\u001b[49m\n",
      "\u001b[1;31mNameError\u001b[0m: name 'pi' is not defined"
     ]
    }
   ],
   "source": [
    "pi"
   ]
  },
  {
   "cell_type": "markdown",
   "id": "cd8383d3",
   "metadata": {},
   "source": [
    "## But, we can define them by ourselves:\n",
    "\n",
    "<div dir = \"rtl\">\n",
    "اما می‌توانیم خودمان تعریفش کنیم"
   ]
  },
  {
   "cell_type": "code",
   "execution_count": 101,
   "id": "7aa686ba-5d5a-4acc-a605-1f37272b85df",
   "metadata": {},
   "outputs": [],
   "source": [
    "pi = 3.14"
   ]
  },
  {
   "cell_type": "code",
   "execution_count": 103,
   "id": "920faac5-a380-42d8-abf8-401cfb0aa05c",
   "metadata": {},
   "outputs": [
    {
     "name": "stdout",
     "output_type": "stream",
     "text": [
      "3.14\n"
     ]
    }
   ],
   "source": [
    "print(pi)"
   ]
  },
  {
   "cell_type": "markdown",
   "id": "04ec8518",
   "metadata": {},
   "source": [
    "## While 3.14 is a common approximation of π, it is not the most precise value. To obtain a more accurate representation of π, we can use libraries that provide this constant with greater precision. For example, the math library in Python includes a more accurate value for π:\n",
    "\n",
    "<div dir = \"rtl\">\n",
    "در حالی که 3.14 یک تقریب رایج از π است، ولی دقیق ترین مقدارآن  نیست. برای به دست آوردن نمایش دقیق‌تری از π، می‌توانیم از کتابخانه‌هایی استفاده کنیم که این عدد را با دقت بیشتری ارائه می‌کنند. به عنوان مثال، کتابخانه math در پایتون دارای مقدار دقیق تری برای π است:"
   ]
  },
  {
   "cell_type": "code",
   "execution_count": 105,
   "id": "10c7f795-0a96-4935-86a9-c13b939ca549",
   "metadata": {},
   "outputs": [],
   "source": [
    "import math"
   ]
  },
  {
   "cell_type": "code",
   "execution_count": 107,
   "id": "0a827c70-af2c-43f8-bba9-0fdd98e832cf",
   "metadata": {},
   "outputs": [
    {
     "data": {
      "text/plain": [
       "3.141592653589793"
      ]
     },
     "execution_count": 107,
     "metadata": {},
     "output_type": "execute_result"
    }
   ],
   "source": [
    "math.pi"
   ]
  },
  {
   "cell_type": "code",
   "execution_count": 111,
   "id": "3c19cd33-28ea-4c6a-bd06-c08659406e75",
   "metadata": {},
   "outputs": [],
   "source": [
    "e = 2.718"
   ]
  },
  {
   "cell_type": "code",
   "execution_count": 115,
   "id": "bf24c463-2e8e-44b0-8607-3ac06a77e8a5",
   "metadata": {},
   "outputs": [
    {
     "data": {
      "text/plain": [
       "2.718"
      ]
     },
     "execution_count": 115,
     "metadata": {},
     "output_type": "execute_result"
    }
   ],
   "source": [
    "e"
   ]
  },
  {
   "cell_type": "code",
   "execution_count": 117,
   "id": "3fcd2fee-b84a-46ca-bbe9-4c2e71293e08",
   "metadata": {},
   "outputs": [
    {
     "data": {
      "text/plain": [
       "2.718281828459045"
      ]
     },
     "execution_count": 117,
     "metadata": {},
     "output_type": "execute_result"
    }
   ],
   "source": [
    "math.e"
   ]
  },
  {
   "cell_type": "markdown",
   "id": "0fd8aaea",
   "metadata": {},
   "source": [
    "## To use libraries in Python, we typically import them at the beginning of our script. However, if we want to avoid repeatedly calling functions or constants from a library, we can assign them to variables. For example, to use the constant e from the math library, we can import the library and then define a variable:\n",
    "\n",
    "<div dir = 'rtl'>\n",
    "برای استفاده از کتابخانه‌ها در پایتون، آنها را در ابتدای کد خود وارد می کنیم. با این حال، اگر بخواهیم از فراخوانی مکرر توابع یا ثابت ها از یک کتابخانه جلوگیری کنیم، می‌توانیم آنها را به متغیرها اختصاص دهیم. به عنوان مثال، برای استفاده از ثابت e از کتابخانه ریاضی، می‌توانیم کتابخانه را وارد کنیم و سپس یک متغیر تعریف کنیم:"
   ]
  },
  {
   "cell_type": "code",
   "execution_count": 18,
   "id": "ce25c0d8",
   "metadata": {},
   "outputs": [
    {
     "data": {
      "text/plain": [
       "2.718281828459045"
      ]
     },
     "execution_count": 18,
     "metadata": {},
     "output_type": "execute_result"
    }
   ],
   "source": [
    "import math\n",
    "\n",
    "e = math.e\n",
    "\n",
    "e"
   ]
  },
  {
   "cell_type": "markdown",
   "id": "4dd69058",
   "metadata": {},
   "source": [
    "## To delete a defined variable we can do the following:"
   ]
  },
  {
   "cell_type": "code",
   "execution_count": 19,
   "id": "b51ee67c",
   "metadata": {},
   "outputs": [],
   "source": [
    "del e"
   ]
  },
  {
   "cell_type": "code",
   "execution_count": 20,
   "id": "97f38bd6",
   "metadata": {},
   "outputs": [
    {
     "ename": "NameError",
     "evalue": "name 'e' is not defined",
     "output_type": "error",
     "traceback": [
      "\u001b[1;31m---------------------------------------------------------------------------\u001b[0m",
      "\u001b[1;31mNameError\u001b[0m                                 Traceback (most recent call last)",
      "Cell \u001b[1;32mIn[20], line 1\u001b[0m\n\u001b[1;32m----> 1\u001b[0m \u001b[43me\u001b[49m\n",
      "\u001b[1;31mNameError\u001b[0m: name 'e' is not defined"
     ]
    }
   ],
   "source": [
    "e"
   ]
  },
  {
   "cell_type": "markdown",
   "id": "c53fc4ee-c86f-4b1e-a8c1-f772a6ca0d0b",
   "metadata": {},
   "source": [
    "# Replicating the analysis of the excel in Python\n",
    "\n",
    "<div dir = 'rtl'>\n",
    "تکرار تجزیه و تحلیل اکسل در پایتون"
   ]
  },
  {
   "cell_type": "markdown",
   "id": "b43f1e60",
   "metadata": {},
   "source": [
    "## First, we need to read the Excel file in our Python environment. Since Python does not recognize Excel files by default, we will use a library called pandas to import the Excel file. To install the pandas library, run the following command in your terminal or command prompt:\n",
    "\n",
    "<div dir = \"rtl\">\n",
    "ابتدا باید فایل اکسل را در محیط پایتون خود بخوانیم. از آنجایی که پایتون فایل‌های اکسل را به‌طور پیش‌فرض تشخیص نمی‌دهد، از کتابخانه‌ای به نام pandas برای وارد کردن فایل اکسل استفاده می‌کنیم. برای نصب کتابخانه pandas، دستور زیر را در ترمینال یا خط فرمان خود اجرا کنید:"
   ]
  },
  {
   "cell_type": "code",
   "execution_count": 120,
   "id": "843cde50-0835-446a-ae0a-a27d802878f7",
   "metadata": {},
   "outputs": [
    {
     "name": "stdout",
     "output_type": "stream",
     "text": [
      "Defaulting to user installation because normal site-packages is not writeableNote: you may need to restart the kernel to use updated packages.\n",
      "\n",
      "Requirement already satisfied: pandas in c:\\programdata\\anaconda3\\lib\\site-packages (2.2.2)\n",
      "Requirement already satisfied: numpy>=1.26.0 in c:\\programdata\\anaconda3\\lib\\site-packages (from pandas) (1.26.4)\n",
      "Requirement already satisfied: python-dateutil>=2.8.2 in c:\\programdata\\anaconda3\\lib\\site-packages (from pandas) (2.9.0.post0)\n",
      "Requirement already satisfied: pytz>=2020.1 in c:\\programdata\\anaconda3\\lib\\site-packages (from pandas) (2024.1)\n",
      "Requirement already satisfied: tzdata>=2022.7 in c:\\programdata\\anaconda3\\lib\\site-packages (from pandas) (2023.3)\n",
      "Requirement already satisfied: six>=1.5 in c:\\programdata\\anaconda3\\lib\\site-packages (from python-dateutil>=2.8.2->pandas) (1.16.0)\n"
     ]
    }
   ],
   "source": [
    "pip install pandas"
   ]
  },
  {
   "cell_type": "markdown",
   "id": "4b6dd8b6",
   "metadata": {},
   "source": [
    "## Installing openpyxl library is a good idea too."
   ]
  },
  {
   "cell_type": "code",
   "execution_count": 122,
   "id": "24c02f39-bed9-4124-a00a-452c4cd1cc29",
   "metadata": {},
   "outputs": [],
   "source": [
    "#pip install openpyxl"
   ]
  },
  {
   "cell_type": "markdown",
   "id": "6a043284",
   "metadata": {},
   "source": [
    "# reading the excel file"
   ]
  },
  {
   "cell_type": "code",
   "execution_count": 22,
   "id": "4ff3dbab-fbcd-447a-85a1-37c46aa1b139",
   "metadata": {},
   "outputs": [],
   "source": [
    "import pandas "
   ]
  },
  {
   "cell_type": "markdown",
   "id": "77c39549",
   "metadata": {},
   "source": [
    "### We will use the read_excel() function from the pandas library to read an Excel file. In the first argument of this function, we provide the path to the file. If the Excel file is in the same folder as our Python script, we can simply provide the file name along with its format. In the second argument, we specify the name of the sheet we want to import into our Python environment. Here’s an example:\n",
    "\n",
    "<div dir = \"rtl\">\n",
    "ما از تابع read_excel از کتابخانه pandas برای خواندن یک فایل اکسل استفاده می‌کنیم.\n",
    "\n",
    "در اولین آرگومان این تابع، مسیر فایل را مشخص می‌كنیم. اگر فایل اکسل در همان پوشه‌ی کد پایتون ما باشد، می‌توانیم به سادگی نام فایل را همراه با فرمت آن به تابع بدهیم. در آرگومان دوم، نام برگه‌ای (شیت) را که می‌خواهیم به محیط پایتون وارد کنیم، مشخص می‌کنیم.\n",
    "\n",
    "مثال:"
   ]
  },
  {
   "cell_type": "code",
   "execution_count": 23,
   "id": "386804ad-b698-40d5-af08-13b5835955aa",
   "metadata": {},
   "outputs": [
    {
     "data": {
      "text/html": [
       "<div>\n",
       "<style scoped>\n",
       "    .dataframe tbody tr th:only-of-type {\n",
       "        vertical-align: middle;\n",
       "    }\n",
       "\n",
       "    .dataframe tbody tr th {\n",
       "        vertical-align: top;\n",
       "    }\n",
       "\n",
       "    .dataframe thead th {\n",
       "        text-align: right;\n",
       "    }\n",
       "</style>\n",
       "<table border=\"1\" class=\"dataframe\">\n",
       "  <thead>\n",
       "    <tr style=\"text-align: right;\">\n",
       "      <th></th>\n",
       "      <th>Y</th>\n",
       "      <th>X</th>\n",
       "    </tr>\n",
       "  </thead>\n",
       "  <tbody>\n",
       "    <tr>\n",
       "      <th>0</th>\n",
       "      <td>2.34</td>\n",
       "      <td>1.23</td>\n",
       "    </tr>\n",
       "    <tr>\n",
       "      <th>1</th>\n",
       "      <td>3.56</td>\n",
       "      <td>2.45</td>\n",
       "    </tr>\n",
       "    <tr>\n",
       "      <th>2</th>\n",
       "      <td>4.78</td>\n",
       "      <td>3.67</td>\n",
       "    </tr>\n",
       "    <tr>\n",
       "      <th>3</th>\n",
       "      <td>5.90</td>\n",
       "      <td>4.89</td>\n",
       "    </tr>\n",
       "    <tr>\n",
       "      <th>4</th>\n",
       "      <td>6.12</td>\n",
       "      <td>5.01</td>\n",
       "    </tr>\n",
       "    <tr>\n",
       "      <th>5</th>\n",
       "      <td>7.45</td>\n",
       "      <td>6.34</td>\n",
       "    </tr>\n",
       "    <tr>\n",
       "      <th>6</th>\n",
       "      <td>8.67</td>\n",
       "      <td>7.56</td>\n",
       "    </tr>\n",
       "    <tr>\n",
       "      <th>7</th>\n",
       "      <td>9.89</td>\n",
       "      <td>8.78</td>\n",
       "    </tr>\n",
       "    <tr>\n",
       "      <th>8</th>\n",
       "      <td>10.23</td>\n",
       "      <td>9.12</td>\n",
       "    </tr>\n",
       "    <tr>\n",
       "      <th>9</th>\n",
       "      <td>11.45</td>\n",
       "      <td>10.34</td>\n",
       "    </tr>\n",
       "    <tr>\n",
       "      <th>10</th>\n",
       "      <td>12.67</td>\n",
       "      <td>11.56</td>\n",
       "    </tr>\n",
       "    <tr>\n",
       "      <th>11</th>\n",
       "      <td>13.89</td>\n",
       "      <td>12.78</td>\n",
       "    </tr>\n",
       "    <tr>\n",
       "      <th>12</th>\n",
       "      <td>14.01</td>\n",
       "      <td>13.90</td>\n",
       "    </tr>\n",
       "    <tr>\n",
       "      <th>13</th>\n",
       "      <td>15.23</td>\n",
       "      <td>14.12</td>\n",
       "    </tr>\n",
       "    <tr>\n",
       "      <th>14</th>\n",
       "      <td>16.45</td>\n",
       "      <td>15.34</td>\n",
       "    </tr>\n",
       "    <tr>\n",
       "      <th>15</th>\n",
       "      <td>17.67</td>\n",
       "      <td>16.56</td>\n",
       "    </tr>\n",
       "    <tr>\n",
       "      <th>16</th>\n",
       "      <td>18.89</td>\n",
       "      <td>17.78</td>\n",
       "    </tr>\n",
       "    <tr>\n",
       "      <th>17</th>\n",
       "      <td>19.01</td>\n",
       "      <td>18.90</td>\n",
       "    </tr>\n",
       "    <tr>\n",
       "      <th>18</th>\n",
       "      <td>20.23</td>\n",
       "      <td>19.12</td>\n",
       "    </tr>\n",
       "    <tr>\n",
       "      <th>19</th>\n",
       "      <td>21.45</td>\n",
       "      <td>20.34</td>\n",
       "    </tr>\n",
       "    <tr>\n",
       "      <th>20</th>\n",
       "      <td>22.67</td>\n",
       "      <td>21.56</td>\n",
       "    </tr>\n",
       "    <tr>\n",
       "      <th>21</th>\n",
       "      <td>23.89</td>\n",
       "      <td>22.78</td>\n",
       "    </tr>\n",
       "    <tr>\n",
       "      <th>22</th>\n",
       "      <td>24.01</td>\n",
       "      <td>23.90</td>\n",
       "    </tr>\n",
       "    <tr>\n",
       "      <th>23</th>\n",
       "      <td>25.23</td>\n",
       "      <td>24.12</td>\n",
       "    </tr>\n",
       "    <tr>\n",
       "      <th>24</th>\n",
       "      <td>26.45</td>\n",
       "      <td>25.34</td>\n",
       "    </tr>\n",
       "    <tr>\n",
       "      <th>25</th>\n",
       "      <td>27.67</td>\n",
       "      <td>26.56</td>\n",
       "    </tr>\n",
       "    <tr>\n",
       "      <th>26</th>\n",
       "      <td>28.89</td>\n",
       "      <td>27.78</td>\n",
       "    </tr>\n",
       "    <tr>\n",
       "      <th>27</th>\n",
       "      <td>29.01</td>\n",
       "      <td>28.90</td>\n",
       "    </tr>\n",
       "    <tr>\n",
       "      <th>28</th>\n",
       "      <td>30.23</td>\n",
       "      <td>29.12</td>\n",
       "    </tr>\n",
       "    <tr>\n",
       "      <th>29</th>\n",
       "      <td>31.45</td>\n",
       "      <td>30.34</td>\n",
       "    </tr>\n",
       "  </tbody>\n",
       "</table>\n",
       "</div>"
      ],
      "text/plain": [
       "        Y      X\n",
       "0    2.34   1.23\n",
       "1    3.56   2.45\n",
       "2    4.78   3.67\n",
       "3    5.90   4.89\n",
       "4    6.12   5.01\n",
       "5    7.45   6.34\n",
       "6    8.67   7.56\n",
       "7    9.89   8.78\n",
       "8   10.23   9.12\n",
       "9   11.45  10.34\n",
       "10  12.67  11.56\n",
       "11  13.89  12.78\n",
       "12  14.01  13.90\n",
       "13  15.23  14.12\n",
       "14  16.45  15.34\n",
       "15  17.67  16.56\n",
       "16  18.89  17.78\n",
       "17  19.01  18.90\n",
       "18  20.23  19.12\n",
       "19  21.45  20.34\n",
       "20  22.67  21.56\n",
       "21  23.89  22.78\n",
       "22  24.01  23.90\n",
       "23  25.23  24.12\n",
       "24  26.45  25.34\n",
       "25  27.67  26.56\n",
       "26  28.89  27.78\n",
       "27  29.01  28.90\n",
       "28  30.23  29.12\n",
       "29  31.45  30.34"
      ]
     },
     "execution_count": 23,
     "metadata": {},
     "output_type": "execute_result"
    }
   ],
   "source": [
    "pandas.read_excel(\"first session data.xlsx\", sheet_name = \"Sheet2\")"
   ]
  },
  {
   "cell_type": "markdown",
   "id": "7608038f",
   "metadata": {},
   "source": [
    "### In this example, first_session_data.xlsx is the name of the Excel file, and \"Sheet2\" is the name of the sheet we are interested in. This will load the specified sheet into a pandas DataFrame, allowing us to work with the data easily.\n",
    "\n",
    "<div dir = 'rtl'>\n",
    " در این مثال، first_session_data.xlsx نام فایل اکسل است، و \"Sheet2\" نام برگه‌ای است که ما در پایتون فراخوانی‌اش کردیم"
   ]
  },
  {
   "cell_type": "markdown",
   "id": "bdc09c90",
   "metadata": {},
   "source": [
    "### To view the first five rows or the last five rows of a DataFrame loaded from an Excel file, we can use the head() and tail() methods provided by pandas.\n",
    "\n",
    "<div dir = 'rtl'>\n",
    " برای مشاهده پنج سطر اول یا پنج سطر آخر یک شیت اکسل، می‌توانیم از متدهای \n",
    " ()head \n",
    " و \n",
    " ()tail \n",
    " ارائه شده توسط کتابخانه pandas استفاده کنیم."
   ]
  },
  {
   "cell_type": "code",
   "execution_count": 24,
   "id": "3a1f3fe5-3983-4830-abf8-ddd084dea91b",
   "metadata": {},
   "outputs": [
    {
     "data": {
      "text/html": [
       "<div>\n",
       "<style scoped>\n",
       "    .dataframe tbody tr th:only-of-type {\n",
       "        vertical-align: middle;\n",
       "    }\n",
       "\n",
       "    .dataframe tbody tr th {\n",
       "        vertical-align: top;\n",
       "    }\n",
       "\n",
       "    .dataframe thead th {\n",
       "        text-align: right;\n",
       "    }\n",
       "</style>\n",
       "<table border=\"1\" class=\"dataframe\">\n",
       "  <thead>\n",
       "    <tr style=\"text-align: right;\">\n",
       "      <th></th>\n",
       "      <th>Y</th>\n",
       "      <th>X</th>\n",
       "    </tr>\n",
       "  </thead>\n",
       "  <tbody>\n",
       "    <tr>\n",
       "      <th>0</th>\n",
       "      <td>2.34</td>\n",
       "      <td>1.23</td>\n",
       "    </tr>\n",
       "    <tr>\n",
       "      <th>1</th>\n",
       "      <td>3.56</td>\n",
       "      <td>2.45</td>\n",
       "    </tr>\n",
       "    <tr>\n",
       "      <th>2</th>\n",
       "      <td>4.78</td>\n",
       "      <td>3.67</td>\n",
       "    </tr>\n",
       "    <tr>\n",
       "      <th>3</th>\n",
       "      <td>5.90</td>\n",
       "      <td>4.89</td>\n",
       "    </tr>\n",
       "    <tr>\n",
       "      <th>4</th>\n",
       "      <td>6.12</td>\n",
       "      <td>5.01</td>\n",
       "    </tr>\n",
       "  </tbody>\n",
       "</table>\n",
       "</div>"
      ],
      "text/plain": [
       "      Y     X\n",
       "0  2.34  1.23\n",
       "1  3.56  2.45\n",
       "2  4.78  3.67\n",
       "3  5.90  4.89\n",
       "4  6.12  5.01"
      ]
     },
     "execution_count": 24,
     "metadata": {},
     "output_type": "execute_result"
    }
   ],
   "source": [
    "pandas.read_excel(\"first session data.xlsx\", sheet_name = \"Sheet2\").head()"
   ]
  },
  {
   "cell_type": "code",
   "execution_count": 25,
   "id": "08ae925d",
   "metadata": {},
   "outputs": [
    {
     "data": {
      "text/html": [
       "<div>\n",
       "<style scoped>\n",
       "    .dataframe tbody tr th:only-of-type {\n",
       "        vertical-align: middle;\n",
       "    }\n",
       "\n",
       "    .dataframe tbody tr th {\n",
       "        vertical-align: top;\n",
       "    }\n",
       "\n",
       "    .dataframe thead th {\n",
       "        text-align: right;\n",
       "    }\n",
       "</style>\n",
       "<table border=\"1\" class=\"dataframe\">\n",
       "  <thead>\n",
       "    <tr style=\"text-align: right;\">\n",
       "      <th></th>\n",
       "      <th>Y</th>\n",
       "      <th>X</th>\n",
       "    </tr>\n",
       "  </thead>\n",
       "  <tbody>\n",
       "    <tr>\n",
       "      <th>25</th>\n",
       "      <td>27.67</td>\n",
       "      <td>26.56</td>\n",
       "    </tr>\n",
       "    <tr>\n",
       "      <th>26</th>\n",
       "      <td>28.89</td>\n",
       "      <td>27.78</td>\n",
       "    </tr>\n",
       "    <tr>\n",
       "      <th>27</th>\n",
       "      <td>29.01</td>\n",
       "      <td>28.90</td>\n",
       "    </tr>\n",
       "    <tr>\n",
       "      <th>28</th>\n",
       "      <td>30.23</td>\n",
       "      <td>29.12</td>\n",
       "    </tr>\n",
       "    <tr>\n",
       "      <th>29</th>\n",
       "      <td>31.45</td>\n",
       "      <td>30.34</td>\n",
       "    </tr>\n",
       "  </tbody>\n",
       "</table>\n",
       "</div>"
      ],
      "text/plain": [
       "        Y      X\n",
       "25  27.67  26.56\n",
       "26  28.89  27.78\n",
       "27  29.01  28.90\n",
       "28  30.23  29.12\n",
       "29  31.45  30.34"
      ]
     },
     "execution_count": 25,
     "metadata": {},
     "output_type": "execute_result"
    }
   ],
   "source": [
    "pandas.read_excel(\"first session data.xlsx\", sheet_name = \"Sheet2\").tail()"
   ]
  },
  {
   "cell_type": "markdown",
   "id": "411638a8",
   "metadata": {},
   "source": [
    "### When we import pandas using the statement import pandas, we must use the full name each time we want to call a function from the library. However, we can simplify this by using an alias. By importing pandas as pd, we can shorten our code and make it more readable. Here’s how to do it:\n",
    "\n",
    "<div dir = 'rtl'>\n",
    "وقتی کتابخانه pandas را با استفاده از عبارت import pandas وارد می‌کنیم، هر بار که می‌خواهیم تابعی را از کتابخانه فراخوانی کنیم باید از نام کامل یعنی pandas استفاده کنیم. با این حال، ما می‌توانیم با استفاده از نام مستعار این کار را ساده کنیم. با وارد کردن pandas به صورت pd، می‌توانیم کد خود را کوتاه کرده و خواناتر کنیم. برای نمونه:"
   ]
  },
  {
   "cell_type": "code",
   "execution_count": 26,
   "id": "05c9fb32",
   "metadata": {},
   "outputs": [],
   "source": [
    "import pandas as pd"
   ]
  },
  {
   "cell_type": "markdown",
   "id": "6044f084",
   "metadata": {},
   "source": [
    "### To store the contents of an Excel file in our Python environment, we can define a variable for it. This allows us to easily access and manipulate the data later in our code.\n",
    "\n",
    "<div dir = 'rtl'>\n",
    "برای حفظ محتویات یک فایل اکسل در محیط پایتون خود می‌توانیم یک متغیر برای آن تعریف کنیم. اینکار به ما امکان می‌دهد به راحتی به داده ها دسترسی داشته باشیم و بر روی آنها عملیات‌هایی انجام دهیم."
   ]
  },
  {
   "cell_type": "code",
   "execution_count": 30,
   "id": "eb73c0de-d5d3-4028-bd83-a9fe8431027b",
   "metadata": {},
   "outputs": [],
   "source": [
    "data = pd.read_excel(\"first session data.xlsx\", sheet_name = \"Sheet2\")"
   ]
  },
  {
   "cell_type": "code",
   "execution_count": 32,
   "id": "e1d69d48-2205-4a01-8381-a0a0038db994",
   "metadata": {},
   "outputs": [
    {
     "data": {
      "text/html": [
       "<div>\n",
       "<style scoped>\n",
       "    .dataframe tbody tr th:only-of-type {\n",
       "        vertical-align: middle;\n",
       "    }\n",
       "\n",
       "    .dataframe tbody tr th {\n",
       "        vertical-align: top;\n",
       "    }\n",
       "\n",
       "    .dataframe thead th {\n",
       "        text-align: right;\n",
       "    }\n",
       "</style>\n",
       "<table border=\"1\" class=\"dataframe\">\n",
       "  <thead>\n",
       "    <tr style=\"text-align: right;\">\n",
       "      <th></th>\n",
       "      <th>Y</th>\n",
       "      <th>X</th>\n",
       "    </tr>\n",
       "  </thead>\n",
       "  <tbody>\n",
       "    <tr>\n",
       "      <th>0</th>\n",
       "      <td>2.34</td>\n",
       "      <td>1.23</td>\n",
       "    </tr>\n",
       "    <tr>\n",
       "      <th>1</th>\n",
       "      <td>3.56</td>\n",
       "      <td>2.45</td>\n",
       "    </tr>\n",
       "    <tr>\n",
       "      <th>2</th>\n",
       "      <td>4.78</td>\n",
       "      <td>3.67</td>\n",
       "    </tr>\n",
       "    <tr>\n",
       "      <th>3</th>\n",
       "      <td>5.90</td>\n",
       "      <td>4.89</td>\n",
       "    </tr>\n",
       "    <tr>\n",
       "      <th>4</th>\n",
       "      <td>6.12</td>\n",
       "      <td>5.01</td>\n",
       "    </tr>\n",
       "  </tbody>\n",
       "</table>\n",
       "</div>"
      ],
      "text/plain": [
       "      Y     X\n",
       "0  2.34  1.23\n",
       "1  3.56  2.45\n",
       "2  4.78  3.67\n",
       "3  5.90  4.89\n",
       "4  6.12  5.01"
      ]
     },
     "execution_count": 32,
     "metadata": {},
     "output_type": "execute_result"
    }
   ],
   "source": [
    "data.head() # similar to pd.read_excel(\"first session data.xlsx\", sheet_name = \"Sheet2\").head()"
   ]
  },
  {
   "cell_type": "code",
   "execution_count": 33,
   "id": "3776a24f-18b3-4322-a524-3f7a60703fc4",
   "metadata": {},
   "outputs": [],
   "source": [
    "#data.tail()"
   ]
  },
  {
   "cell_type": "code",
   "execution_count": 36,
   "id": "1c2ba7dc",
   "metadata": {},
   "outputs": [
    {
     "data": {
      "text/plain": [
       "pandas.core.frame.DataFrame"
      ]
     },
     "execution_count": 36,
     "metadata": {},
     "output_type": "execute_result"
    }
   ],
   "source": [
    "type(data)"
   ]
  },
  {
   "cell_type": "code",
   "execution_count": 37,
   "id": "9d5f5abe",
   "metadata": {},
   "outputs": [
    {
     "data": {
      "text/plain": [
       "function"
      ]
     },
     "execution_count": 37,
     "metadata": {},
     "output_type": "execute_result"
    }
   ],
   "source": [
    "type(pd.read_excel)"
   ]
  },
  {
   "cell_type": "markdown",
   "id": "3cd34221-e194-44c6-b57a-b0927c9e46f9",
   "metadata": {},
   "source": [
    "### From the output of data.head(), we can see that our DataFrame contains two columns named Y and X. To access these columns, we can simply use their names within square brackets.\n",
    "\n",
    "<div dir = 'rtl'>\n",
    "از خروجی ()data.head، می‌توانیم ببینیم که DataFrame ما شامل دو ستون به نام‌های Y و X است. برای دسترسی به این ستون‌ها، می‌توانیم به سادگی از نام آنها در کروشه یا قلاب استفاده کنیم."
   ]
  },
  {
   "cell_type": "code",
   "execution_count": null,
   "id": "63cf4f5a-e301-43e3-b693-62c987cd0f48",
   "metadata": {},
   "outputs": [
    {
     "data": {
      "text/plain": [
       "0    1.23\n",
       "1    2.45\n",
       "2    3.67\n",
       "3    4.89\n",
       "4    5.01\n",
       "Name: X, dtype: float64"
      ]
     },
     "execution_count": 151,
     "metadata": {},
     "output_type": "execute_result"
    }
   ],
   "source": [
    "data['X']"
   ]
  },
  {
   "cell_type": "code",
   "execution_count": 153,
   "id": "f859b79e-564d-44fd-a5d6-cf375f5b5a2d",
   "metadata": {},
   "outputs": [],
   "source": [
    "X = data['X']\n",
    "Y = data['Y']"
   ]
  },
  {
   "cell_type": "code",
   "execution_count": 157,
   "id": "914e926b-ebfe-44b6-84f9-30c10651045f",
   "metadata": {},
   "outputs": [
    {
     "data": {
      "text/plain": [
       "0    2.34\n",
       "1    3.56\n",
       "2    4.78\n",
       "3    5.90\n",
       "4    6.12\n",
       "Name: Y, dtype: float64"
      ]
     },
     "execution_count": 157,
     "metadata": {},
     "output_type": "execute_result"
    }
   ],
   "source": [
    "Y.head()"
   ]
  },
  {
   "cell_type": "markdown",
   "id": "215dea86",
   "metadata": {},
   "source": [
    "# Calculating $R^2$\n",
    "\n",
    "<div dir = 'rtl'>\n",
    "محاسبه‌ی ضریب تعیین"
   ]
  },
  {
   "cell_type": "markdown",
   "id": "50e49ff4-9ca3-43fe-9410-031b96ddb001",
   "metadata": {},
   "source": [
    "## Covariance and Variance\n",
    "\n",
    "- Variance measures how far a set of numbers is spread out from their average value. It quantifies the degree of variation in a dataset.\n",
    "\n",
    "- Covariance indicates the direction of the linear relationship between two variables. A positive covariance means that as one variable increases, the other tends to increase, while a negative covariance indicates that as one variable increases, the other tends to decrease.\n",
    "\n",
    "### Calculating Covariance\n",
    "\n",
    "- To calculate the covariance between two columns in a pandas DataFrame, we can use the .cov() method. Here's how to do it:\n",
    "\n",
    "<div dir = 'rtl'>\n",
    "\n",
    "## کوواریانس و واریانس\n",
    "\n",
    "- واریانس نشان می‌دهد که مجموعه‌ای از اعداد چقدر از مقدار متوسط ​​خود فاصله دارند. درجه تغییرات در یک مجموعه داده را کمی می‌کند.\n",
    "\n",
    "- کوواریانس جهت رابطه خطی بین دو متغیر را نشان می‌دهد. کوواریانس مثبت به این معنی است که با افزایش یک متغیر، متغیر دیگر تمایل به افزایش دارد، در حالی که کوواریانس منفی نشان می‌دهد که با افزایش یک متغیر، متغیر دیگر تمایل به کاهش دارد.\n",
    "\n",
    "## محاسبه کوواریانس\n",
    "\n",
    "- برای محاسبه کوواریانس بین دو ستون در دیتافریم کتابخانه pandas، می‌توانیم از متد ()cov استفاده کنیم:"
   ]
  },
  {
   "cell_type": "code",
   "execution_count": 168,
   "id": "bca9bfce-a37e-4aee-876e-7375166e83cf",
   "metadata": {},
   "outputs": [
    {
     "data": {
      "text/plain": [
       "77.22165045977012"
      ]
     },
     "execution_count": 168,
     "metadata": {},
     "output_type": "execute_result"
    }
   ],
   "source": [
    "Y.cov(X)"
   ]
  },
  {
   "cell_type": "code",
   "execution_count": 170,
   "id": "899b8979-c704-4317-bd0c-b7d8e8e8bd88",
   "metadata": {},
   "outputs": [],
   "source": [
    "covariance_x_and_y = Y.cov(X)"
   ]
  },
  {
   "cell_type": "code",
   "execution_count": 172,
   "id": "ba05cc4b-1311-4beb-bcae-fc398a8c8f20",
   "metadata": {},
   "outputs": [
    {
     "data": {
      "text/plain": [
       "77.22165045977012"
      ]
     },
     "execution_count": 172,
     "metadata": {},
     "output_type": "execute_result"
    }
   ],
   "source": [
    "covariance_x_and_y"
   ]
  },
  {
   "cell_type": "markdown",
   "id": "33d6d60c",
   "metadata": {},
   "source": [
    "## Variance can be calculated using the .var() method in pandas. This method computes the variance of a specified column in a DataFrame.\n",
    "\n",
    "<div dir = 'rtl'>\n",
    "واریانس را می‌توان با استفاده از متد .var() در pandas محاسبه کرد. این متد واریانس یک ستون مشخص شده در یک DataFrame را محاسبه می‌کند."
   ]
  },
  {
   "cell_type": "code",
   "execution_count": 176,
   "id": "e2995ef7-9e44-4ec3-af7b-e600de1628f0",
   "metadata": {},
   "outputs": [
    {
     "data": {
      "text/plain": [
       "77.92727229885058"
      ]
     },
     "execution_count": 176,
     "metadata": {},
     "output_type": "execute_result"
    }
   ],
   "source": [
    "X.var()"
   ]
  },
  {
   "cell_type": "code",
   "execution_count": 178,
   "id": "c8606104-e623-4a62-8c74-e2b97da6fbdb",
   "metadata": {},
   "outputs": [],
   "source": [
    "variance_x = X.var()"
   ]
  },
  {
   "cell_type": "markdown",
   "id": "4b27ab63-7646-44ab-8c25-9f9c59bc76c6",
   "metadata": {},
   "source": [
    "## $\\beta_1 = \\frac{cov(x,y)}{var(x)}$"
   ]
  },
  {
   "cell_type": "code",
   "execution_count": 183,
   "id": "5c1aba88-8ea8-4131-8543-11bdc5732342",
   "metadata": {},
   "outputs": [],
   "source": [
    "beta_1 = covariance_x_and_y / variance_x"
   ]
  },
  {
   "cell_type": "code",
   "execution_count": 185,
   "id": "c511358f-8746-4d1a-8640-9c9d9823ca86",
   "metadata": {},
   "outputs": [
    {
     "data": {
      "text/plain": [
       "0.9909451233404603"
      ]
     },
     "execution_count": 185,
     "metadata": {},
     "output_type": "execute_result"
    }
   ],
   "source": [
    "beta_1"
   ]
  },
  {
   "cell_type": "markdown",
   "id": "245739d3-d1e5-4346-b7bd-03c3536f9365",
   "metadata": {},
   "source": [
    "## Average (or mean)\n",
    "\n",
    "<div dir = \"rtl\">\n",
    "میانگین"
   ]
  },
  {
   "cell_type": "code",
   "execution_count": 188,
   "id": "fee81a33-cb58-40a8-84ac-8401870ece9b",
   "metadata": {},
   "outputs": [],
   "source": [
    "mean_y = Y.mean()\n",
    "mean_x = X.mean()"
   ]
  },
  {
   "cell_type": "markdown",
   "id": "89ba3e82-89d8-4970-b260-1de0886a29f0",
   "metadata": {},
   "source": [
    "## $\\beta_0 = \\bar Y - \\beta_1 \\times \\bar X $"
   ]
  },
  {
   "cell_type": "code",
   "execution_count": 192,
   "id": "839fa92e-85ee-48bf-aae9-a99fc86e4c19",
   "metadata": {},
   "outputs": [
    {
     "data": {
      "text/plain": [
       "1.1182687074381494"
      ]
     },
     "execution_count": 192,
     "metadata": {},
     "output_type": "execute_result"
    }
   ],
   "source": [
    "beta_0 = mean_y - beta_1 * mean_x\n",
    "beta_0"
   ]
  },
  {
   "cell_type": "markdown",
   "id": "67ab7ed0-1562-4591-b0e1-0e1e79351bb4",
   "metadata": {},
   "source": [
    "## $SST = \\sum (Y- \\bar Y)^2$"
   ]
  },
  {
   "cell_type": "code",
   "execution_count": 195,
   "id": "b839da3e-2b8c-43ce-941e-cae2d2aa2536",
   "metadata": {},
   "outputs": [
    {
     "data": {
      "text/plain": [
       "2222.4144966666668"
      ]
     },
     "execution_count": 195,
     "metadata": {},
     "output_type": "execute_result"
    }
   ],
   "source": [
    "SST = ((Y - mean_y)**2).sum()\n",
    "SST"
   ]
  },
  {
   "cell_type": "markdown",
   "id": "5e580706",
   "metadata": {},
   "source": [
    "## $\\hat Y = \\beta_0 + \\beta_1 \\times X_i$"
   ]
  },
  {
   "cell_type": "code",
   "execution_count": 199,
   "id": "4a246544-447d-4e9f-b95b-acf84d822d73",
   "metadata": {},
   "outputs": [
    {
     "data": {
      "text/plain": [
       "0    2.337131\n",
       "1    3.546084\n",
       "2    4.755037\n",
       "3    5.963990\n",
       "4    6.082904\n",
       "Name: X, dtype: float64"
      ]
     },
     "execution_count": 199,
     "metadata": {},
     "output_type": "execute_result"
    }
   ],
   "source": [
    "y_hat = beta_0 + beta_1 * X\n",
    "y_hat.head()"
   ]
  },
  {
   "cell_type": "markdown",
   "id": "aabd59a0",
   "metadata": {},
   "source": [
    "## $SSE = \\sum (Y-\\hat Y)^2$"
   ]
  },
  {
   "cell_type": "code",
   "execution_count": 201,
   "id": "14d5ae59-b24e-46e9-836e-bc415cfd310d",
   "metadata": {},
   "outputs": [
    {
     "data": {
      "text/plain": [
       "3.264376423753273"
      ]
     },
     "execution_count": 201,
     "metadata": {},
     "output_type": "execute_result"
    }
   ],
   "source": [
    "SSE = ((Y - y_hat)**2).sum()\n",
    "SSE"
   ]
  },
  {
   "cell_type": "markdown",
   "id": "32d18b94",
   "metadata": {},
   "source": [
    "## $R^2 = 1 - \\frac{SSE}{SST}$"
   ]
  },
  {
   "cell_type": "code",
   "execution_count": 203,
   "id": "c7e33eb3-65c0-4a59-8f66-9775529f7dcf",
   "metadata": {},
   "outputs": [],
   "source": [
    "R_squared = 1 - SSE / SST"
   ]
  },
  {
   "cell_type": "code",
   "execution_count": 205,
   "id": "9946c074-d466-4a72-bd72-04dcac27a7f7",
   "metadata": {},
   "outputs": [
    {
     "data": {
      "text/plain": [
       "0.9985311576986878"
      ]
     },
     "execution_count": 205,
     "metadata": {},
     "output_type": "execute_result"
    }
   ],
   "source": [
    "R_squared"
   ]
  },
  {
   "cell_type": "markdown",
   "id": "4ee14610",
   "metadata": {},
   "source": [
    "# Exercise\n",
    "\n",
    "- Use the data on the third sheet of the excel file and do the same analysis in Python."
   ]
  }
 ],
 "metadata": {
  "kernelspec": {
   "display_name": "Python 3",
   "language": "python",
   "name": "python3"
  },
  "language_info": {
   "codemirror_mode": {
    "name": "ipython",
    "version": 3
   },
   "file_extension": ".py",
   "mimetype": "text/x-python",
   "name": "python",
   "nbconvert_exporter": "python",
   "pygments_lexer": "ipython3",
   "version": "3.13.1"
  }
 },
 "nbformat": 4,
 "nbformat_minor": 5
}
