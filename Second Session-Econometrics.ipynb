{
 "cells": [
  {
   "cell_type": "markdown",
   "id": "18ac423b-f737-4859-b96b-d140d40366c7",
   "metadata": {},
   "source": [
    "# Econometrics"
   ]
  },
  {
   "cell_type": "markdown",
   "id": "843e08b9-e1ae-48c1-b1e9-ca082cca1677",
   "metadata": {},
   "source": [
    "## Second Session"
   ]
  },
  {
   "cell_type": "markdown",
   "id": "641badec-15e6-4d33-ba91-852ba0df9971",
   "metadata": {},
   "source": [
    "### We will complete the homework from the previous session and use a different library to perform the same regression analysis. Additionally, we will explore various methods and tools for plotting data in Python."
   ]
  },
  {
   "cell_type": "code",
   "execution_count": 257,
   "id": "f3b69636-cc0b-41d3-9664-ade42e2bd2d0",
   "metadata": {},
   "outputs": [],
   "source": [
    "import pandas as pd"
   ]
  },
  {
   "cell_type": "code",
   "execution_count": 259,
   "id": "7c6a9bca-4651-49a0-bf2b-88414fd94b78",
   "metadata": {},
   "outputs": [
    {
     "data": {
      "text/html": [
       "<div>\n",
       "<style scoped>\n",
       "    .dataframe tbody tr th:only-of-type {\n",
       "        vertical-align: middle;\n",
       "    }\n",
       "\n",
       "    .dataframe tbody tr th {\n",
       "        vertical-align: top;\n",
       "    }\n",
       "\n",
       "    .dataframe thead th {\n",
       "        text-align: right;\n",
       "    }\n",
       "</style>\n",
       "<table border=\"1\" class=\"dataframe\">\n",
       "  <thead>\n",
       "    <tr style=\"text-align: right;\">\n",
       "      <th></th>\n",
       "      <th>First</th>\n",
       "      <th>Second</th>\n",
       "    </tr>\n",
       "  </thead>\n",
       "  <tbody>\n",
       "    <tr>\n",
       "      <th>0</th>\n",
       "      <td>1.5</td>\n",
       "      <td>2.85</td>\n",
       "    </tr>\n",
       "    <tr>\n",
       "      <th>1</th>\n",
       "      <td>2.0</td>\n",
       "      <td>3.60</td>\n",
       "    </tr>\n",
       "    <tr>\n",
       "      <th>2</th>\n",
       "      <td>2.5</td>\n",
       "      <td>4.15</td>\n",
       "    </tr>\n",
       "    <tr>\n",
       "      <th>3</th>\n",
       "      <td>3.0</td>\n",
       "      <td>5.00</td>\n",
       "    </tr>\n",
       "    <tr>\n",
       "      <th>4</th>\n",
       "      <td>3.5</td>\n",
       "      <td>5.85</td>\n",
       "    </tr>\n",
       "  </tbody>\n",
       "</table>\n",
       "</div>"
      ],
      "text/plain": [
       "   First  Second\n",
       "0    1.5    2.85\n",
       "1    2.0    3.60\n",
       "2    2.5    4.15\n",
       "3    3.0    5.00\n",
       "4    3.5    5.85"
      ]
     },
     "execution_count": 259,
     "metadata": {},
     "output_type": "execute_result"
    }
   ],
   "source": [
    "file_name = \"first session.xlsx\"\n",
    "sheetname = \"HW\"\n",
    "\n",
    "data = pd.read_excel(file_name, sheet_name = sheetname)\n",
    "data.head()"
   ]
  },
  {
   "cell_type": "code",
   "execution_count": 261,
   "id": "e0260dea-d47d-47f6-8a94-eedc0e5b28ec",
   "metadata": {},
   "outputs": [
    {
     "data": {
      "text/plain": [
       "32.5"
      ]
     },
     "execution_count": 261,
     "metadata": {},
     "output_type": "execute_result"
    }
   ],
   "source": [
    "data['First'].var()"
   ]
  },
  {
   "cell_type": "code",
   "execution_count": 265,
   "id": "84ef9ec1-9d35-4224-b295-0f7594f52e12",
   "metadata": {},
   "outputs": [],
   "source": [
    "X = data['First']\n",
    "Y = data['Second']"
   ]
  },
  {
   "cell_type": "code",
   "execution_count": 269,
   "id": "1ad5e645-3441-455b-ae9c-16b8eaffcc44",
   "metadata": {},
   "outputs": [
    {
     "data": {
      "text/html": [
       "<div>\n",
       "<style scoped>\n",
       "    .dataframe tbody tr th:only-of-type {\n",
       "        vertical-align: middle;\n",
       "    }\n",
       "\n",
       "    .dataframe tbody tr th {\n",
       "        vertical-align: top;\n",
       "    }\n",
       "\n",
       "    .dataframe thead th {\n",
       "        text-align: right;\n",
       "    }\n",
       "</style>\n",
       "<table border=\"1\" class=\"dataframe\">\n",
       "  <thead>\n",
       "    <tr style=\"text-align: right;\">\n",
       "      <th></th>\n",
       "      <th>First</th>\n",
       "      <th>Second</th>\n",
       "    </tr>\n",
       "  </thead>\n",
       "  <tbody>\n",
       "    <tr>\n",
       "      <th>0</th>\n",
       "      <td>1.5</td>\n",
       "      <td>2.85</td>\n",
       "    </tr>\n",
       "    <tr>\n",
       "      <th>1</th>\n",
       "      <td>2.0</td>\n",
       "      <td>3.60</td>\n",
       "    </tr>\n",
       "    <tr>\n",
       "      <th>2</th>\n",
       "      <td>2.5</td>\n",
       "      <td>4.15</td>\n",
       "    </tr>\n",
       "    <tr>\n",
       "      <th>3</th>\n",
       "      <td>3.0</td>\n",
       "      <td>5.00</td>\n",
       "    </tr>\n",
       "    <tr>\n",
       "      <th>4</th>\n",
       "      <td>3.5</td>\n",
       "      <td>5.85</td>\n",
       "    </tr>\n",
       "  </tbody>\n",
       "</table>\n",
       "</div>"
      ],
      "text/plain": [
       "   First  Second\n",
       "0    1.5    2.85\n",
       "1    2.0    3.60\n",
       "2    2.5    4.15\n",
       "3    3.0    5.00\n",
       "4    3.5    5.85"
      ]
     },
     "execution_count": 269,
     "metadata": {},
     "output_type": "execute_result"
    }
   ],
   "source": [
    "data.head()"
   ]
  },
  {
   "cell_type": "code",
   "execution_count": 277,
   "id": "18412718-f7c7-4449-9de3-4615ae84f7e1",
   "metadata": {
    "scrolled": true
   },
   "outputs": [
    {
     "data": {
      "text/plain": [
       "34    18.5\n",
       "35    19.0\n",
       "36    19.5\n",
       "37    20.0\n",
       "38    20.5\n",
       "Name: First, dtype: float64"
      ]
     },
     "execution_count": 277,
     "metadata": {},
     "output_type": "execute_result"
    }
   ],
   "source": [
    "X.tail()"
   ]
  },
  {
   "cell_type": "markdown",
   "id": "39cc4950-5685-4b13-a6fc-394b431b142c",
   "metadata": {},
   "source": [
    "## cov(x,y)"
   ]
  },
  {
   "cell_type": "code",
   "execution_count": 279,
   "id": "5ca72607-31f1-4b91-b4d9-ffd3321e8675",
   "metadata": {},
   "outputs": [],
   "source": [
    "cov_x_y = Y.cov(X)"
   ]
  },
  {
   "cell_type": "code",
   "execution_count": 281,
   "id": "fba6b311-1f27-4d17-93a9-52782139c76b",
   "metadata": {
    "scrolled": true
   },
   "outputs": [
    {
     "name": "stdout",
     "output_type": "stream",
     "text": [
      "50.94210526315789\n"
     ]
    }
   ],
   "source": [
    "print(cov_x_y)"
   ]
  },
  {
   "cell_type": "markdown",
   "id": "f3046a5a-b841-471a-89b4-55e4526918f8",
   "metadata": {},
   "source": [
    "## var(x)"
   ]
  },
  {
   "cell_type": "code",
   "execution_count": 283,
   "id": "7f74470f-3446-456b-aff5-11dedfe022a5",
   "metadata": {},
   "outputs": [],
   "source": [
    "variance_x = X.var()\n",
    "beta_1 = cov_x_y / variance_x"
   ]
  },
  {
   "cell_type": "markdown",
   "id": "6bdc0f41-0457-40ca-87a7-0f32b12e36ed",
   "metadata": {},
   "source": [
    "## $ \\beta_1$"
   ]
  },
  {
   "cell_type": "code",
   "execution_count": 285,
   "id": "aaab5ccc-78e0-47b5-b2f5-d0057ee72fe0",
   "metadata": {},
   "outputs": [
    {
     "data": {
      "text/plain": [
       "1.5674493927125506"
      ]
     },
     "execution_count": 285,
     "metadata": {},
     "output_type": "execute_result"
    }
   ],
   "source": [
    "beta_1"
   ]
  },
  {
   "cell_type": "markdown",
   "id": "d5e9395e-2125-40cf-b8a7-adf9fdbb2f20",
   "metadata": {},
   "source": [
    "## print function capablities"
   ]
  },
  {
   "cell_type": "code",
   "execution_count": 301,
   "id": "e9278404-12a3-49c5-b2b1-5f610418e1e4",
   "metadata": {},
   "outputs": [
    {
     "name": "stdout",
     "output_type": "stream",
     "text": [
      "This is covariance:  50.94210526315789\n",
      "this is variance:  32.5\n",
      "slope: 1.5674493927125506\n"
     ]
    }
   ],
   "source": [
    "print(\"This is covariance: \", cov_x_y)\n",
    "print(\"this is variance: \", variance_x)\n",
    "print(\"slope:\", beta_1)"
   ]
  },
  {
   "cell_type": "markdown",
   "id": "3250530d-3fc9-4b84-b565-be9155b1d095",
   "metadata": {},
   "source": [
    "## We must use the print() function to include descriptions for our code. If we choose not to do so, Python may interpret them as something else."
   ]
  },
  {
   "cell_type": "code",
   "execution_count": 473,
   "id": "ac09f730-d419-4de7-9a2b-b4621f15437b",
   "metadata": {},
   "outputs": [
    {
     "data": {
      "text/plain": [
       "('slope', 1.5674493927125506)"
      ]
     },
     "execution_count": 473,
     "metadata": {},
     "output_type": "execute_result"
    }
   ],
   "source": [
    "\"slope\", beta_1"
   ]
  },
  {
   "cell_type": "code",
   "execution_count": 308,
   "id": "76315d21-7f75-4985-aed6-1569bcc22a2f",
   "metadata": {},
   "outputs": [
    {
     "ename": "TypeError",
     "evalue": "type() takes 1 or 3 arguments",
     "output_type": "error",
     "traceback": [
      "\u001b[1;31m---------------------------------------------------------------------------\u001b[0m",
      "\u001b[1;31mTypeError\u001b[0m                                 Traceback (most recent call last)",
      "Cell \u001b[1;32mIn[308], line 1\u001b[0m\n\u001b[1;32m----> 1\u001b[0m \u001b[38;5;28;43mtype\u001b[39;49m\u001b[43m(\u001b[49m\u001b[38;5;124;43m\"\u001b[39;49m\u001b[38;5;124;43mslope\u001b[39;49m\u001b[38;5;124;43m\"\u001b[39;49m\u001b[43m,\u001b[49m\u001b[43m \u001b[49m\u001b[43mbeta_1\u001b[49m\u001b[43m)\u001b[49m\n",
      "\u001b[1;31mTypeError\u001b[0m: type() takes 1 or 3 arguments"
     ]
    }
   ],
   "source": [
    "type(\"slope\", beta_1)"
   ]
  },
  {
   "cell_type": "markdown",
   "id": "eafc353a-7045-4ff8-8890-06435b4cf372",
   "metadata": {},
   "source": [
    "## $ f(x) = x^2 $\n",
    "## $ f(2) = 2^2 $\n",
    "## $ f(2, 3) = ??? $"
   ]
  },
  {
   "cell_type": "code",
   "execution_count": 311,
   "id": "eefc13f0-e8f2-4a14-838d-f4cd5abd55e0",
   "metadata": {},
   "outputs": [],
   "source": [
    "combination = \"slope\", beta_1"
   ]
  },
  {
   "cell_type": "code",
   "execution_count": 313,
   "id": "e6197aa4-aaf9-4f4d-92c3-9e2945cc78a0",
   "metadata": {
    "scrolled": true
   },
   "outputs": [
    {
     "data": {
      "text/plain": [
       "('slope', 1.5674493927125506)"
      ]
     },
     "execution_count": 313,
     "metadata": {},
     "output_type": "execute_result"
    }
   ],
   "source": [
    "combination"
   ]
  },
  {
   "cell_type": "markdown",
   "id": "08ee720f-0bb9-4769-b333-0081e3aacb75",
   "metadata": {},
   "source": [
    "## tuple"
   ]
  },
  {
   "cell_type": "code",
   "execution_count": 315,
   "id": "7255d09a-3281-4642-a047-76eea3335827",
   "metadata": {
    "scrolled": true
   },
   "outputs": [
    {
     "data": {
      "text/plain": [
       "tuple"
      ]
     },
     "execution_count": 315,
     "metadata": {},
     "output_type": "execute_result"
    }
   ],
   "source": [
    "type(combination)"
   ]
  },
  {
   "cell_type": "markdown",
   "id": "8ae64189-3f29-4572-bed3-9c9a5fe69373",
   "metadata": {},
   "source": [
    "## $\\bar X$\n",
    "## $\\bar Y$"
   ]
  },
  {
   "cell_type": "code",
   "execution_count": 317,
   "id": "9ef310d7-4ce0-4ce5-98b8-366fc7462f61",
   "metadata": {
    "scrolled": true
   },
   "outputs": [
    {
     "name": "stdout",
     "output_type": "stream",
     "text": [
      "the average of Y is:  17.492307692307694\n",
      "the average of X is:  11.0\n"
     ]
    }
   ],
   "source": [
    "mean_Y = Y.mean()\n",
    "mean_X = X.mean()\n",
    "\n",
    "print(\"the average of Y is: \", mean_Y)\n",
    "print(\"the average of X is: \", mean_X)"
   ]
  },
  {
   "cell_type": "markdown",
   "id": "c91b3012-ea25-4b77-9905-65b6eabdb68b",
   "metadata": {},
   "source": [
    "## $\\beta_0$"
   ]
  },
  {
   "cell_type": "code",
   "execution_count": 319,
   "id": "8d69a2fe-b51b-41a8-9394-47a247af5976",
   "metadata": {},
   "outputs": [
    {
     "name": "stdout",
     "output_type": "stream",
     "text": [
      "the intercept is:  0.2503643724696367\n"
     ]
    }
   ],
   "source": [
    "beta_0 = mean_Y - beta_1 * mean_X\n",
    "print(\"the intercept is: \", beta_0)"
   ]
  },
  {
   "cell_type": "markdown",
   "id": "f1e42ea8-ab7d-4606-9ae8-9d91ae3f7571",
   "metadata": {},
   "source": [
    "## $ SST = \\sum (Y - \\bar Y)^2 $"
   ]
  },
  {
   "cell_type": "code",
   "execution_count": 323,
   "id": "3f90bbdb-57a7-4095-86de-bf860e77d92b",
   "metadata": {},
   "outputs": [
    {
     "name": "stdout",
     "output_type": "stream",
     "text": [
      "sum squared total:  3034.537692307693\n"
     ]
    }
   ],
   "source": [
    "SST = ((Y - mean_Y)**2).sum()\n",
    "print(\"sum squared total: \", SST)"
   ]
  },
  {
   "cell_type": "code",
   "execution_count": 427,
   "id": "28abd84f-22a9-49d7-86ae-4decdb729b82",
   "metadata": {},
   "outputs": [
    {
     "data": {
      "text/html": [
       "<div>\n",
       "<style scoped>\n",
       "    .dataframe tbody tr th:only-of-type {\n",
       "        vertical-align: middle;\n",
       "    }\n",
       "\n",
       "    .dataframe tbody tr th {\n",
       "        vertical-align: top;\n",
       "    }\n",
       "\n",
       "    .dataframe thead th {\n",
       "        text-align: right;\n",
       "    }\n",
       "</style>\n",
       "<table border=\"1\" class=\"dataframe\">\n",
       "  <thead>\n",
       "    <tr style=\"text-align: right;\">\n",
       "      <th></th>\n",
       "      <th>const</th>\n",
       "      <th>First</th>\n",
       "    </tr>\n",
       "  </thead>\n",
       "  <tbody>\n",
       "    <tr>\n",
       "      <th>0</th>\n",
       "      <td>1.817814</td>\n",
       "      <td>2.601538</td>\n",
       "    </tr>\n",
       "    <tr>\n",
       "      <th>1</th>\n",
       "      <td>1.817814</td>\n",
       "      <td>3.385263</td>\n",
       "    </tr>\n",
       "    <tr>\n",
       "      <th>2</th>\n",
       "      <td>1.817814</td>\n",
       "      <td>4.168988</td>\n",
       "    </tr>\n",
       "    <tr>\n",
       "      <th>3</th>\n",
       "      <td>1.817814</td>\n",
       "      <td>4.952713</td>\n",
       "    </tr>\n",
       "    <tr>\n",
       "      <th>4</th>\n",
       "      <td>1.817814</td>\n",
       "      <td>5.736437</td>\n",
       "    </tr>\n",
       "  </tbody>\n",
       "</table>\n",
       "</div>"
      ],
      "text/plain": [
       "      const     First\n",
       "0  1.817814  2.601538\n",
       "1  1.817814  3.385263\n",
       "2  1.817814  4.168988\n",
       "3  1.817814  4.952713\n",
       "4  1.817814  5.736437"
      ]
     },
     "execution_count": 427,
     "metadata": {},
     "output_type": "execute_result"
    }
   ],
   "source": [
    "y_hat = beta_0 + beta_1 * X\n",
    "y_hat.head()"
   ]
  },
  {
   "cell_type": "markdown",
   "id": "1df02d70-d32d-4bc1-91ad-7f958aff9eed",
   "metadata": {},
   "source": [
    "## SSE"
   ]
  },
  {
   "cell_type": "code",
   "execution_count": 330,
   "id": "5fe1bf35-cb41-437f-a4d5-6f249e96e59a",
   "metadata": {},
   "outputs": [
    {
     "data": {
      "text/plain": [
       "0.2691578947368405"
      ]
     },
     "execution_count": 330,
     "metadata": {},
     "output_type": "execute_result"
    }
   ],
   "source": [
    "SSE = ((Y - y_hat) ** 2).sum()\n",
    "SSE"
   ]
  },
  {
   "cell_type": "code",
   "execution_count": 332,
   "id": "b8f73d22-09df-42c9-a203-b87933b97e1c",
   "metadata": {},
   "outputs": [],
   "source": [
    "R_squared = 1 - SSE / SST"
   ]
  },
  {
   "cell_type": "code",
   "execution_count": 334,
   "id": "2ddc10b0-b0f2-40b0-b46f-eb7e4e926c36",
   "metadata": {},
   "outputs": [
    {
     "data": {
      "text/plain": [
       "0.9999113018449501"
      ]
     },
     "execution_count": 334,
     "metadata": {},
     "output_type": "execute_result"
    }
   ],
   "source": [
    "R_squared"
   ]
  },
  {
   "cell_type": "markdown",
   "id": "9c657402-0ff1-4a05-b303-dbf10d25a8f5",
   "metadata": {},
   "source": [
    "# plotting in Python"
   ]
  },
  {
   "cell_type": "markdown",
   "id": "4d299500-215d-4b79-a448-12645addb114",
   "metadata": {},
   "source": [
    "## matplotlib library"
   ]
  },
  {
   "cell_type": "code",
   "execution_count": null,
   "id": "bd3a7fa9-d885-4f90-bd19-a549e10a97c7",
   "metadata": {},
   "outputs": [],
   "source": [
    "# pip install matplotlib"
   ]
  },
  {
   "cell_type": "code",
   "execution_count": 340,
   "id": "23562192-fbd4-4e8a-a3b4-7680d3f48d96",
   "metadata": {},
   "outputs": [],
   "source": [
    "import matplotlib.pyplot"
   ]
  },
  {
   "cell_type": "code",
   "execution_count": 346,
   "id": "ce77e981-ab10-4acc-a6e8-ffa3082f754a",
   "metadata": {},
   "outputs": [
    {
     "data": {
      "image/png": "[encoded data removed]",
      "text/plain": [
       "<Figure size 640x480 with 1 Axes>"
      ]
     },
     "metadata": {},
     "output_type": "display_data"
    }
   ],
   "source": [
    "matplotlib.pyplot.plot(2, 3, color = 'red', marker = '*')\n",
    "matplotlib.pyplot.show()"
   ]
  },
  {
   "cell_type": "code",
   "execution_count": 352,
   "id": "09db2f2a-d35d-4dcf-829e-268b10e01040",
   "metadata": {
    "scrolled": true
   },
   "outputs": [
    {
     "data": {
      "image/png": "[encoded data removed]",
      "text/plain": [
       "<Figure size 640x480 with 1 Axes>"
      ]
     },
     "metadata": {},
     "output_type": "display_data"
    }
   ],
   "source": [
    "x = -2\n",
    "y = 10\n",
    "\n",
    "matplotlib.pyplot.plot(x, y, color = 'magenta', marker = '8')\n",
    "matplotlib.pyplot.show()"
   ]
  },
  {
   "cell_type": "markdown",
   "id": "0435ca82-fc2e-4658-9a40-ee9e44677343",
   "metadata": {},
   "source": [
    "## using alias"
   ]
  },
  {
   "cell_type": "code",
   "execution_count": 354,
   "id": "28add2d6-566d-4249-8ed1-e9cda8dbec07",
   "metadata": {},
   "outputs": [],
   "source": [
    "import matplotlib.pyplot as plt"
   ]
  },
  {
   "cell_type": "code",
   "execution_count": 356,
   "id": "b417db6d-b8b8-4b1c-8929-629b8d04dbd7",
   "metadata": {
    "scrolled": true
   },
   "outputs": [
    {
     "data": {
      "image/png": "[encoded data removed]",
      "text/plain": [
       "<Figure size 640x480 with 1 Axes>"
      ]
     },
     "metadata": {},
     "output_type": "display_data"
    }
   ],
   "source": [
    "x = -3\n",
    "y = -7\n",
    "\n",
    "plt.plot(x, y, marker = '^', color = \"purple\")\n",
    "plt.show()"
   ]
  },
  {
   "cell_type": "markdown",
   "id": "ab4dc395-9a3e-47df-ba62-9e99380420b0",
   "metadata": {},
   "source": [
    "## scatter plot"
   ]
  },
  {
   "cell_type": "code",
   "execution_count": 361,
   "id": "e5c09719-4ce7-4cac-aef9-e2f3333b9508",
   "metadata": {},
   "outputs": [
    {
     "data": {
      "image/png": "[encoded data removed]",
      "text/plain": [
       "<Figure size 640x480 with 1 Axes>"
      ]
     },
     "metadata": {},
     "output_type": "display_data"
    }
   ],
   "source": [
    "a = 5\n",
    "b = 5\n",
    "\n",
    "plt.scatter(a, b)\n",
    "plt.show()"
   ]
  },
  {
   "cell_type": "markdown",
   "id": "8e8a20af-2747-4a60-9130-9c4e741d557e",
   "metadata": {},
   "source": [
    "# Scatter Plot of our Regression Analysis"
   ]
  },
  {
   "cell_type": "code",
   "execution_count": 394,
   "id": "97a2aac9-c952-44a9-8093-d5323b5eb473",
   "metadata": {},
   "outputs": [
    {
     "data": {
      "image/png": "[encoded data removed]",
      "text/plain": [
       "<Figure size 640x480 with 1 Axes>"
      ]
     },
     "metadata": {},
     "output_type": "display_data"
    }
   ],
   "source": [
    "plt.scatter(X, Y, color = 'blue', label = 'data points')\n",
    "plt.plot(X, y_hat, color = 'red', label = \"Regression Line\")\n",
    "plt.xlabel('First')\n",
    "plt.ylabel('Second')\n",
    "plt.title(\"Regression analysis\")\n",
    "plt.legend()\n",
    "plt.show()"
   ]
  },
  {
   "cell_type": "code",
   "execution_count": 382,
   "id": "4d4466f4-7667-43a2-afbd-4f26d87649c2",
   "metadata": {},
   "outputs": [],
   "source": [
    "# help(plt.plot)"
   ]
  },
  {
   "cell_type": "markdown",
   "id": "bacccaf5-9df1-4bd6-9fa4-55d9cf08ddcc",
   "metadata": {},
   "source": [
    "## using statsmodels library"
   ]
  },
  {
   "cell_type": "code",
   "execution_count": 397,
   "id": "f2665de9-af67-40b3-9cab-38e65193d051",
   "metadata": {},
   "outputs": [],
   "source": [
    "# pip install statsmodels "
   ]
  },
  {
   "cell_type": "code",
   "execution_count": 399,
   "id": "b7af0c70-ec68-4320-bdf1-287b7b16dcfe",
   "metadata": {},
   "outputs": [],
   "source": [
    "import statsmodels.api as sm"
   ]
  },
  {
   "cell_type": "code",
   "execution_count": 403,
   "id": "1657ac09-9944-4493-9373-d53ddea75b90",
   "metadata": {},
   "outputs": [
    {
     "data": {
      "text/plain": [
       "0    1.5\n",
       "1    2.0\n",
       "2    2.5\n",
       "3    3.0\n",
       "4    3.5\n",
       "Name: First, dtype: float64"
      ]
     },
     "execution_count": 403,
     "metadata": {},
     "output_type": "execute_result"
    }
   ],
   "source": [
    "X.head()"
   ]
  },
  {
   "cell_type": "code",
   "execution_count": 405,
   "id": "9ae6fb01-8733-478a-a798-05de3d5f8d6b",
   "metadata": {},
   "outputs": [],
   "source": [
    "X = sm.add_constant(X)"
   ]
  },
  {
   "cell_type": "code",
   "execution_count": 409,
   "id": "b518ce88-f7ef-49d8-89b1-3d8c6fd4ad00",
   "metadata": {},
   "outputs": [
    {
     "data": {
      "text/html": [
       "<div>\n",
       "<style scoped>\n",
       "    .dataframe tbody tr th:only-of-type {\n",
       "        vertical-align: middle;\n",
       "    }\n",
       "\n",
       "    .dataframe tbody tr th {\n",
       "        vertical-align: top;\n",
       "    }\n",
       "\n",
       "    .dataframe thead th {\n",
       "        text-align: right;\n",
       "    }\n",
       "</style>\n",
       "<table border=\"1\" class=\"dataframe\">\n",
       "  <thead>\n",
       "    <tr style=\"text-align: right;\">\n",
       "      <th></th>\n",
       "      <th>const</th>\n",
       "      <th>First</th>\n",
       "    </tr>\n",
       "  </thead>\n",
       "  <tbody>\n",
       "    <tr>\n",
       "      <th>34</th>\n",
       "      <td>1.0</td>\n",
       "      <td>18.5</td>\n",
       "    </tr>\n",
       "    <tr>\n",
       "      <th>35</th>\n",
       "      <td>1.0</td>\n",
       "      <td>19.0</td>\n",
       "    </tr>\n",
       "    <tr>\n",
       "      <th>36</th>\n",
       "      <td>1.0</td>\n",
       "      <td>19.5</td>\n",
       "    </tr>\n",
       "    <tr>\n",
       "      <th>37</th>\n",
       "      <td>1.0</td>\n",
       "      <td>20.0</td>\n",
       "    </tr>\n",
       "    <tr>\n",
       "      <th>38</th>\n",
       "      <td>1.0</td>\n",
       "      <td>20.5</td>\n",
       "    </tr>\n",
       "  </tbody>\n",
       "</table>\n",
       "</div>"
      ],
      "text/plain": [
       "    const  First\n",
       "34    1.0   18.5\n",
       "35    1.0   19.0\n",
       "36    1.0   19.5\n",
       "37    1.0   20.0\n",
       "38    1.0   20.5"
      ]
     },
     "execution_count": 409,
     "metadata": {},
     "output_type": "execute_result"
    }
   ],
   "source": [
    "X.tail()"
   ]
  },
  {
   "cell_type": "code",
   "execution_count": 415,
   "id": "ec803252-b9de-4237-b129-d2cb8078d126",
   "metadata": {},
   "outputs": [],
   "source": [
    "result = sm.OLS(Y, X).fit()"
   ]
  },
  {
   "cell_type": "code",
   "execution_count": 417,
   "id": "45f3c0f0-2ae4-4bf3-8802-a148f760ff0d",
   "metadata": {},
   "outputs": [
    {
     "data": {
      "text/html": [
       "<table class=\"simpletable\">\n",
       "<caption>OLS Regression Results</caption>\n",
       "<tr>\n",
       "  <th>Dep. Variable:</th>         <td>Second</td>      <th>  R-squared:         </th> <td>   1.000</td> \n",
       "</tr>\n",
       "<tr>\n",
       "  <th>Model:</th>                   <td>OLS</td>       <th>  Adj. R-squared:    </th> <td>   1.000</td> \n",
       "</tr>\n",
       "<tr>\n",
       "  <th>Method:</th>             <td>Least Squares</td>  <th>  F-statistic:       </th> <td>4.171e+05</td>\n",
       "</tr>\n",
       "<tr>\n",
       "  <th>Date:</th>             <td>Fri, 25 Apr 2025</td> <th>  Prob (F-statistic):</th> <td>1.42e-76</td> \n",
       "</tr>\n",
       "<tr>\n",
       "  <th>Time:</th>                 <td>01:59:34</td>     <th>  Log-Likelihood:    </th> <td>  41.694</td> \n",
       "</tr>\n",
       "<tr>\n",
       "  <th>No. Observations:</th>      <td>    39</td>      <th>  AIC:               </th> <td>  -79.39</td> \n",
       "</tr>\n",
       "<tr>\n",
       "  <th>Df Residuals:</th>          <td>    37</td>      <th>  BIC:               </th> <td>  -76.06</td> \n",
       "</tr>\n",
       "<tr>\n",
       "  <th>Df Model:</th>              <td>     1</td>      <th>                     </th>     <td> </td>    \n",
       "</tr>\n",
       "<tr>\n",
       "  <th>Covariance Type:</th>      <td>nonrobust</td>    <th>                     </th>     <td> </td>    \n",
       "</tr>\n",
       "</table>\n",
       "<table class=\"simpletable\">\n",
       "<tr>\n",
       "    <td></td>       <th>coef</th>     <th>std err</th>      <th>t</th>      <th>P>|t|</th>  <th>[0.025</th>    <th>0.975]</th>  \n",
       "</tr>\n",
       "<tr>\n",
       "  <th>const</th> <td>    0.2504</td> <td>    0.030</td> <td>    8.349</td> <td> 0.000</td> <td>    0.190</td> <td>    0.311</td>\n",
       "</tr>\n",
       "<tr>\n",
       "  <th>First</th> <td>    1.5674</td> <td>    0.002</td> <td>  645.839</td> <td> 0.000</td> <td>    1.563</td> <td>    1.572</td>\n",
       "</tr>\n",
       "</table>\n",
       "<table class=\"simpletable\">\n",
       "<tr>\n",
       "  <th>Omnibus:</th>       <td> 8.604</td> <th>  Durbin-Watson:     </th> <td>   0.792</td>\n",
       "</tr>\n",
       "<tr>\n",
       "  <th>Prob(Omnibus):</th> <td> 0.014</td> <th>  Jarque-Bera (JB):  </th> <td>   7.487</td>\n",
       "</tr>\n",
       "<tr>\n",
       "  <th>Skew:</th>          <td> 0.893</td> <th>  Prob(JB):          </th> <td>  0.0237</td>\n",
       "</tr>\n",
       "<tr>\n",
       "  <th>Kurtosis:</th>      <td> 4.190</td> <th>  Cond. No.          </th> <td>    27.3</td>\n",
       "</tr>\n",
       "</table><br/><br/>Notes:<br/>[1] Standard Errors assume that the covariance matrix of the errors is correctly specified."
      ],
      "text/latex": [
       "\\begin{center}\n",
       "\\begin{tabular}{lclc}\n",
       "\\toprule\n",
       "\\textbf{Dep. Variable:}    &      Second      & \\textbf{  R-squared:         } &     1.000   \\\\\n",
       "\\textbf{Model:}            &       OLS        & \\textbf{  Adj. R-squared:    } &     1.000   \\\\\n",
       "\\textbf{Method:}           &  Least Squares   & \\textbf{  F-statistic:       } & 4.171e+05   \\\\\n",
       "\\textbf{Date:}             & Fri, 25 Apr 2025 & \\textbf{  Prob (F-statistic):} &  1.42e-76   \\\\\n",
       "\\textbf{Time:}             &     01:59:34     & \\textbf{  Log-Likelihood:    } &    41.694   \\\\\n",
       "\\textbf{No. Observations:} &          39      & \\textbf{  AIC:               } &    -79.39   \\\\\n",
       "\\textbf{Df Residuals:}     &          37      & \\textbf{  BIC:               } &    -76.06   \\\\\n",
       "\\textbf{Df Model:}         &           1      & \\textbf{                     } &             \\\\\n",
       "\\textbf{Covariance Type:}  &    nonrobust     & \\textbf{                     } &             \\\\\n",
       "\\bottomrule\n",
       "\\end{tabular}\n",
       "\\begin{tabular}{lcccccc}\n",
       "               & \\textbf{coef} & \\textbf{std err} & \\textbf{t} & \\textbf{P$> |$t$|$} & \\textbf{[0.025} & \\textbf{0.975]}  \\\\\n",
       "\\midrule\n",
       "\\textbf{const} &       0.2504  &        0.030     &     8.349  &         0.000        &        0.190    &        0.311     \\\\\n",
       "\\textbf{First} &       1.5674  &        0.002     &   645.839  &         0.000        &        1.563    &        1.572     \\\\\n",
       "\\bottomrule\n",
       "\\end{tabular}\n",
       "\\begin{tabular}{lclc}\n",
       "\\textbf{Omnibus:}       &  8.604 & \\textbf{  Durbin-Watson:     } &    0.792  \\\\\n",
       "\\textbf{Prob(Omnibus):} &  0.014 & \\textbf{  Jarque-Bera (JB):  } &    7.487  \\\\\n",
       "\\textbf{Skew:}          &  0.893 & \\textbf{  Prob(JB):          } &   0.0237  \\\\\n",
       "\\textbf{Kurtosis:}      &  4.190 & \\textbf{  Cond. No.          } &     27.3  \\\\\n",
       "\\bottomrule\n",
       "\\end{tabular}\n",
       "%\\caption{OLS Regression Results}\n",
       "\\end{center}\n",
       "\n",
       "Notes: \\newline\n",
       " [1] Standard Errors assume that the covariance matrix of the errors is correctly specified."
      ],
      "text/plain": [
       "<class 'statsmodels.iolib.summary.Summary'>\n",
       "\"\"\"\n",
       "                            OLS Regression Results                            \n",
       "==============================================================================\n",
       "Dep. Variable:                 Second   R-squared:                       1.000\n",
       "Model:                            OLS   Adj. R-squared:                  1.000\n",
       "Method:                 Least Squares   F-statistic:                 4.171e+05\n",
       "Date:                Fri, 25 Apr 2025   Prob (F-statistic):           1.42e-76\n",
       "Time:                        01:59:34   Log-Likelihood:                 41.694\n",
       "No. Observations:                  39   AIC:                            -79.39\n",
       "Df Residuals:                      37   BIC:                            -76.06\n",
       "Df Model:                           1                                         \n",
       "Covariance Type:            nonrobust                                         \n",
       "==============================================================================\n",
       "                 coef    std err          t      P>|t|      [0.025      0.975]\n",
       "------------------------------------------------------------------------------\n",
       "const          0.2504      0.030      8.349      0.000       0.190       0.311\n",
       "First          1.5674      0.002    645.839      0.000       1.563       1.572\n",
       "==============================================================================\n",
       "Omnibus:                        8.604   Durbin-Watson:                   0.792\n",
       "Prob(Omnibus):                  0.014   Jarque-Bera (JB):                7.487\n",
       "Skew:                           0.893   Prob(JB):                       0.0237\n",
       "Kurtosis:                       4.190   Cond. No.                         27.3\n",
       "==============================================================================\n",
       "\n",
       "Notes:\n",
       "[1] Standard Errors assume that the covariance matrix of the errors is correctly specified.\n",
       "\"\"\""
      ]
     },
     "execution_count": 417,
     "metadata": {},
     "output_type": "execute_result"
    }
   ],
   "source": [
    "result.summary()"
   ]
  },
  {
   "cell_type": "markdown",
   "id": "dd0e4eb4-5433-47c9-9073-f5b8198bb5db",
   "metadata": {},
   "source": [
    "## $\\hat y = \\beta_0 + \\beta_1 X$"
   ]
  },
  {
   "cell_type": "code",
   "execution_count": 429,
   "id": "364e7b61-8b68-4830-8f94-3368fd709bcf",
   "metadata": {
    "scrolled": true
   },
   "outputs": [
    {
     "data": {
      "text/plain": [
       "0    2.601538\n",
       "1    3.385263\n",
       "2    4.168988\n",
       "3    4.952713\n",
       "4    5.736437\n",
       "dtype: float64"
      ]
     },
     "execution_count": 429,
     "metadata": {},
     "output_type": "execute_result"
    }
   ],
   "source": [
    "Y_HAT = result.predict(X)\n",
    "\n",
    "Y_HAT.head()"
   ]
  },
  {
   "cell_type": "code",
   "execution_count": 459,
   "id": "46fcb751-5e33-4238-8346-bc5c5134d137",
   "metadata": {},
   "outputs": [
    {
     "data": {
      "image/png": "[encoded data removed]",
      "text/plain": [
       "<Figure size 640x480 with 1 Axes>"
      ]
     },
     "metadata": {},
     "output_type": "display_data"
    }
   ],
   "source": [
    "plt.scatter(data['First'], data['Second'], color = 'blue', label = 'data points')\n",
    "plt.plot(data['First'], Y_HAT, color = 'red', label = \"Regression Line\")\n",
    "plt.xlabel('First')\n",
    "plt.ylabel('Second')\n",
    "plt.title(\"Regression analysis\")\n",
    "plt.legend()\n",
    "plt.show()"
   ]
  },
  {
   "cell_type": "markdown",
   "id": "511f020f-b849-4bfc-878a-23c07e84107b",
   "metadata": {},
   "source": [
    "# Exercise"
   ]
  },
  {
   "cell_type": "markdown",
   "id": "39fb3c43-c293-4ee8-91c3-00252642beed",
   "metadata": {},
   "source": [
    "## Use the data from the second sheet of the Excel file (the one used for teaching in the first session). Perform an OLS regression using the statsmodels library, similar to the analysis from this session, and plot its scatter plot."
   ]
  }
 ],
 "metadata": {
  "kernelspec": {
   "display_name": "Python 3 (ipykernel)",
   "language": "python",
   "name": "python3"
  },
  "language_info": {
   "codemirror_mode": {
    "name": "ipython",
    "version": 3
   },
   "file_extension": ".py",
   "mimetype": "text/x-python",
   "name": "python",
   "nbconvert_exporter": "python",
   "pygments_lexer": "ipython3",
   "version": "3.12.7"
  }
 },
 "nbformat": 4,
 "nbformat_minor": 5
}
